{
 "cells": [
  {
   "cell_type": "code",
   "execution_count": 2,
   "id": "d344cda2-f591-4e8c-ada0-6eede9af7e5e",
   "metadata": {},
   "outputs": [],
   "source": [
    "import os\n",
    "import shutil\n",
    "import csv\n",
    "import json\n",
    "import glob\n",
    "\n",
    "import pandas as pd\n",
    "from openpyxl import load_workbook\n",
    "from openpyxl.styles import Font"
   ]
  },
  {
   "cell_type": "markdown",
   "id": "bc4fbcd1-d0bc-47a4-a40d-e5ef1e784c39",
   "metadata": {},
   "source": [
    "## Utilities"
   ]
  },
  {
   "cell_type": "code",
   "execution_count": 99,
   "id": "84d57cf6-7839-4ccd-82e6-e666180051c2",
   "metadata": {},
   "outputs": [],
   "source": [
    "def copy_file(source_path, destination_dir):\n",
    "    \"\"\"\n",
    "    Copy file from sourch path to target directory. \n",
    "    Use for copying disparate datasets to centralized directory.\n",
    "    \"\"\"\n",
    "    destination_dir = os.path.expanduser(destination_dir)\n",
    "    os.makedirs(destination_dir, exist_ok=True)\n",
    "    filename = os.path.basename(source_path)\n",
    "    destination_path = os.path.join(destination_dir, filename)\n",
    "    \n",
    "    if os.path.exists(destination_path):\n",
    "        print(f\"{filename} already exists in {destination_dir}\")\n",
    "        return False\n",
    "    try:\n",
    "        shutil.copy2(source_path, destination_dir)\n",
    "        return True\n",
    "    except Exception:\n",
    "        print(f\"Error copying {filename}\")\n",
    "        return False\n",
    "\n",
    "def move_file(source_path, destination_dir):\n",
    "    \"\"\"\n",
    "    Move file from sourch path to target directory. \n",
    "    Use for moving disparate datasets to centralized directory.\n",
    "    \"\"\"\n",
    "    destination_dir = os.path.expanduser(destination_dir)\n",
    "    os.makedirs(destination_dir, exist_ok=True)\n",
    "    filename = os.path.basename(source_path)\n",
    "    destination_path = os.path.join(destination_dir, filename)\n",
    "\n",
    "    if os.path.exists(destination_path):\n",
    "        print(f\"{filename} already exists in {destination_dir}\")\n",
    "        return False\n",
    "    try:\n",
    "        shutil.move(source_path, destination_dir)\n",
    "        return True\n",
    "    except Exception:\n",
    "        print(f\"Error moving {filename}\")\n",
    "        return False\n",
    "\n",
    "def to_snake_case(name):\n",
    "    \"\"\"\n",
    "    Many datasets and folders containing spaces and special characters.\n",
    "    Snake case for easier handling.\n",
    "    \"\"\"\n",
    "    name = name.replace('.', '_').replace('-', '_')\n",
    "    name = ''.join(c.lower() if c.isalnum() or c == '_' else '_' for c in name)\n",
    "    while '__' in name:\n",
    "        name = name.replace('__', '_')\n",
    "    return name.strip('_')\n",
    "\n",
    "def map_census_aliases(file_path, column_mapping_dict):\n",
    "    \"\"\"\n",
    "    Census datasets are double headered. 2 part function to handle this:\n",
    "    1. Map column aliases to column codes and add dict mapping to corresponding \n",
    "    dataset dict entry.\n",
    "    2. Create a multiindex pandas dataframe using codes and aliases \n",
    "\n",
    "    Returns:\n",
    "    Multiindex pandas dataframe using codes and aliases\n",
    "    \"\"\"\n",
    "    file_path = os.path.expanduser(file_path)\n",
    "    \n",
    "    # Map aliases to column codes using csv module to properly handle quoted fields\n",
    "    with open(file_path, 'r', newline='') as f:\n",
    "        csv_reader = csv.reader(f)\n",
    "        codes = next(csv_reader)  # First row contains codes\n",
    "        names = next(csv_reader)  # Second row contains names\n",
    "        # Update provided dictionary directly\n",
    "        column_mapping_dict.update(dict(zip(names, codes)))\n",
    "    \n",
    "    # Read data using column aliases\n",
    "    df = pd.read_csv(file_path, skiprows=[0])\n",
    "    \n",
    "    # Create MultiIndex columns with names as primary level\n",
    "    df.columns = pd.MultiIndex.from_tuples(\n",
    "        list(zip(codes, names)),\n",
    "        names=['Code', 'Alias']\n",
    "    )\n",
    "    \n",
    "    return df\n",
    "\n",
    "def census_drop_cols(df, cols_to_drop):\n",
    "    \"\"\"\n",
    "    Drop columns from multiindex dataframes based on alias header.\n",
    "    Drop listed estimate columns and corresponding margin of error columns.\n",
    "    Drop Empty columns.\n",
    "    \n",
    "    Returns:\n",
    "    Multiindex pandas dataframe with estimate and margin of error columns dropped.\n",
    "    \"\"\"\n",
    "    column_names = df.columns.names\n",
    "    \n",
    "    aliases = df.columns.get_level_values('Alias')\n",
    "    codes = df.columns.get_level_values('Code')\n",
    "    \n",
    "    # Create a mapping of aliases to their original columns\n",
    "    alias_to_col = {}\n",
    "    for col, alias in zip(df.columns, aliases):\n",
    "        # Remove quotes if present\n",
    "        clean_alias = alias.strip('\"')\n",
    "        alias_to_col[clean_alias] = col\n",
    "    \n",
    "    # Initialize columns to drop\n",
    "    columns_to_drop = set()\n",
    "    \n",
    "    # Drop specified columns and their margin of error pairs\n",
    "    for remove_col in cols_to_drop:\n",
    "        # Look for exact matches in cleaned aliases\n",
    "        if remove_col in alias_to_col:\n",
    "            columns_to_drop.add(alias_to_col[remove_col])\n",
    "            \n",
    "            # If this is an estimate column, find and drop corresponding margin of error\n",
    "            if remove_col.startswith('Estimate!!'):\n",
    "                margin_col = 'Margin of Error!!' + remove_col[len('Estimate!!'):]\n",
    "                if margin_col in alias_to_col:\n",
    "                    columns_to_drop.add(alias_to_col[margin_col])\n",
    "    \n",
    "    # Drop only columns that have both missing/empty headers AND no values\n",
    "    for col, alias, code in zip(df.columns, aliases, codes):\n",
    "        # Check for missing or empty headers in either level\n",
    "        has_empty_header = (pd.isna(alias) or pd.isna(code) or \n",
    "                          alias.strip('\"').strip() == '' or code.strip('\"').strip() == '')\n",
    "        \n",
    "        has_values = not df[col].isna().all()\n",
    "        \n",
    "        if has_empty_header and not has_values:\n",
    "            columns_to_drop.add(col)\n",
    "    \n",
    "    # Convert set back to list for dropping\n",
    "    columns_to_drop = list(columns_to_drop)\n",
    "    \n",
    "    print(fr\"\\Dropping {len(columns_to_drop)} columns ({len(columns_to_drop)//2} pairs)\")\n",
    "    \n",
    "    cleaned_df = df.drop(columns=columns_to_drop)\n",
    "    cleaned_df.columns.names = column_names\n",
    "    \n",
    "    return cleaned_df\n",
    "\n",
    "def export_census_csv(df, output_dir, filename, overwrite=False):\n",
    "    \"\"\"\n",
    "    Export a multiindex dataframe to a single header csv (Aliases, drop Codes header).\n",
    "    If overwrite, then overwrites existing files with same name, else throw error\n",
    "    \"\"\"\n",
    "    try:\n",
    "        output_path = os.path.join(os.path.expanduser(output_dir), filename)\n",
    "        os.makedirs(os.path.dirname(output_path), exist_ok=True)\n",
    "\n",
    "        # Check if file exists and we're not overwriting\n",
    "        if os.path.exists(output_path) and not overwrite:\n",
    "            raise FileExistsError(f\"File {filename} already exists and overwrite=False\")\n",
    "        \n",
    "        # Get both column headers levels\n",
    "        aliases = df.columns.get_level_values('Alias')\n",
    "        cleaned_aliases = [alias.replace('\"', '').replace('\"', '').strip() \n",
    "                           if isinstance(alias, str) else alias for alias in aliases]\n",
    "\n",
    "        temp_df = df.copy()\n",
    "        \n",
    "        # Write to csv using csv module to properly handle commas in column names\n",
    "        with open(output_path, 'w', newline='', encoding='utf-8') as f:\n",
    "            writer = csv.writer(f)\n",
    "            # Write only the aliases row\n",
    "            writer.writerow(cleaned_aliases)\n",
    "            \n",
    "            temp_df.columns = cleaned_aliases\n",
    "            temp_df.to_csv(f, index=False, header=False)\n",
    "            \n",
    "        print(f\"Exported to {output_path}\")\n",
    "        return True\n",
    "        \n",
    "    except Exception as e:\n",
    "        print(f\"Error exporting CSV: {str(e)}\")\n",
    "        return False"
   ]
  },
  {
   "cell_type": "code",
   "execution_count": 3,
   "id": "359aa734-365a-4dfd-a6fa-649deeb502ba",
   "metadata": {},
   "outputs": [],
   "source": [
    "path_head = os.path.expanduser(\"~/Desktop/Nextcloud/SCOVI Project/\")\n",
    "notes_wb_path = os.path.join(path_head, \"Metrics/Notes/JPL_CCSVI_all_fields.xlsx\")"
   ]
  },
  {
   "cell_type": "code",
   "execution_count": 4,
   "id": "80c215d3-04e0-40e9-8839-b2c5fb456bb4",
   "metadata": {},
   "outputs": [],
   "source": [
    "notes_wb = load_workbook(notes_wb_path)\n",
    "sheet = notes_wb.active"
   ]
  },
  {
   "cell_type": "code",
   "execution_count": 5,
   "id": "045f546b-7f0f-4ea7-9315-0c138e9cdc3a",
   "metadata": {},
   "outputs": [],
   "source": [
    "file_blocks = {}\n",
    "current_file_name = None\n",
    "cols_not_to_drop = [\"Geography\", \"Geographic Area Name\"] \n",
    "\n",
    "# Iterate through rows to find blocks for each csv file\n",
    "for row in sheet.iter_rows(min_row=1, max_col=3, values_only=False):\n",
    "    cell_value = row[0].value\n",
    "    is_bold = row[0].font.bold if row[0].font else False\n",
    "    \n",
    "    # Detect file block by bold file name\n",
    "    if is_bold and cell_value:\n",
    "        original_name = cell_value.strip()\n",
    "        current_file_name = to_snake_case(original_name)\n",
    "        file_blocks[current_file_name] = {\n",
    "            'original_name': original_name,\n",
    "            'cols_to_drop': [],\n",
    "            'code_to_alias_column_mappings': {},\n",
    "            'original_file_path': '',\n",
    "            'centralized_file_dir': '' \n",
    "        }\n",
    "        continue\n",
    "    \n",
    "    # Check for columns with a \"Subfield to keep\" value\n",
    "    if current_file_name and any(col.value for col in row):\n",
    "        \n",
    "        col_name = row[0].value\n",
    "        subfield_value = row[1].value\n",
    "        # Track columns with no value in the subfields to keep column\n",
    "        if col_name and not subfield_value:\n",
    "            if col_name not in cols_not_to_drop:\n",
    "                file_blocks[current_file_name]['cols_to_drop'].append(col_name.strip())"
   ]
  },
  {
   "cell_type": "code",
   "execution_count": 6,
   "id": "9fc4ac92-4dbc-4410-9bf9-948394076b8a",
   "metadata": {
    "scrolled": true
   },
   "outputs": [
    {
     "data": {
      "text/plain": [
       "[('age_of_structure',\n",
       "  {'original_name': 'Age of Structure',\n",
       "   'cols_to_drop': ['Estimate!!Total:',\n",
       "    'Estimate!!Total:!!Built 2020 or later',\n",
       "    'Estimate!!Total:!!Built 2010 to 2019',\n",
       "    'Estimate!!Total:!!Built 2000 to 2009',\n",
       "    'Estimate!!Total:!!Built 1990 to 1999'],\n",
       "   'code_to_alias_column_mappings': {},\n",
       "   'original_file_path': '',\n",
       "   'centralized_file_dir': ''}),\n",
       " ('aggregate_number_of_vehicles_available_by_tenure',\n",
       "  {'original_name': 'Aggregate number of vehicles available by tenure',\n",
       "   'cols_to_drop': ['Estimate!!Aggregate number of vehicles available:!!Owner occupied',\n",
       "    'Estimate!!Aggregate number of vehicles available:!!Renter occupied'],\n",
       "   'code_to_alias_column_mappings': {},\n",
       "   'original_file_path': '',\n",
       "   'centralized_file_dir': ''}),\n",
       " ('health_insurance_coverage_by_age',\n",
       "  {'original_name': 'Health insurance coverage by age',\n",
       "   'cols_to_drop': ['Estimate!!Total:',\n",
       "    'Estimate!!Total:!!Under 19 years:',\n",
       "    'Estimate!!Total:!!Under 19 years:!!With one type of health insurance coverage:',\n",
       "    'Estimate!!Total:!!Under 19 years:!!With one type of health insurance coverage:!!With employer-based health insurance only',\n",
       "    'Estimate!!Total:!!Under 19 years:!!With one type of health insurance coverage:!!With direct-purchase health insurance only',\n",
       "    'Estimate!!Total:!!Under 19 years:!!With one type of health insurance coverage:!!With Medicare coverage only',\n",
       "    'Estimate!!Total:!!Under 19 years:!!With one type of health insurance coverage:!!With Medicaid/means-tested public coverage only',\n",
       "    'Estimate!!Total:!!Under 19 years:!!With one type of health insurance coverage:!!With TRICARE/military health coverage only',\n",
       "    'Estimate!!Total:!!Under 19 years:!!With one type of health insurance coverage:!!With VA Health Care only',\n",
       "    'Estimate!!Total:!!Under 19 years:!!With two or more types of health insurance coverage:',\n",
       "    'Estimate!!Total:!!Under 19 years:!!With two or more types of health insurance coverage:!!With employer-based and direct-purchase coverage',\n",
       "    'Estimate!!Total:!!Under 19 years:!!With two or more types of health insurance coverage:!!With employer-based and Medicare coverage',\n",
       "    'Estimate!!Total:!!Under 19 years:!!With two or more types of health insurance coverage:!!With Medicare and Medicaid/means-tested public coverage',\n",
       "    'Estimate!!Total:!!Under 19 years:!!With two or more types of health insurance coverage:!!Other private only combinations',\n",
       "    'Estimate!!Total:!!Under 19 years:!!With two or more types of health insurance coverage:!!Other public only combinations',\n",
       "    'Estimate!!Total:!!Under 19 years:!!With two or more types of health insurance coverage:!!Other coverage combinations',\n",
       "    'Estimate!!Total:!!19 to 34 years:',\n",
       "    'Estimate!!Total:!!19 to 34 years:!!With one type of health insurance coverage:',\n",
       "    'Estimate!!Total:!!19 to 34 years:!!With one type of health insurance coverage:!!With employer-based health insurance only',\n",
       "    'Estimate!!Total:!!19 to 34 years:!!With one type of health insurance coverage:!!With direct-purchase health insurance only',\n",
       "    'Estimate!!Total:!!19 to 34 years:!!With one type of health insurance coverage:!!With Medicare coverage only',\n",
       "    'Estimate!!Total:!!19 to 34 years:!!With one type of health insurance coverage:!!With Medicaid/means-tested public coverage only',\n",
       "    'Estimate!!Total:!!19 to 34 years:!!With one type of health insurance coverage:!!With TRICARE/military health coverage only',\n",
       "    'Estimate!!Total:!!19 to 34 years:!!With one type of health insurance coverage:!!With VA Health Care only',\n",
       "    'Estimate!!Total:!!19 to 34 years:!!With two or more types of health insurance coverage:',\n",
       "    'Estimate!!Total:!!19 to 34 years:!!With two or more types of health insurance coverage:!!With employer-based and direct-purchase coverage',\n",
       "    'Estimate!!Total:!!19 to 34 years:!!With two or more types of health insurance coverage:!!With employer-based and Medicare coverage',\n",
       "    'Estimate!!Total:!!19 to 34 years:!!With two or more types of health insurance coverage:!!With Medicare and Medicaid/means-tested public coverage',\n",
       "    'Estimate!!Total:!!19 to 34 years:!!With two or more types of health insurance coverage:!!Other private only combinations',\n",
       "    'Estimate!!Total:!!19 to 34 years:!!With two or more types of health insurance coverage:!!Other public only combinations',\n",
       "    'Estimate!!Total:!!19 to 34 years:!!With two or more types of health insurance coverage:!!Other coverage combinations',\n",
       "    'Estimate!!Total:!!35 to 64 years:',\n",
       "    'Estimate!!Total:!!35 to 64 years:!!With one type of health insurance coverage:',\n",
       "    'Estimate!!Total:!!35 to 64 years:!!With one type of health insurance coverage:!!With employer-based health insurance only',\n",
       "    'Estimate!!Total:!!35 to 64 years:!!With one type of health insurance coverage:!!With direct-purchase health insurance only',\n",
       "    'Estimate!!Total:!!35 to 64 years:!!With one type of health insurance coverage:!!With Medicare coverage only',\n",
       "    'Estimate!!Total:!!35 to 64 years:!!With one type of health insurance coverage:!!With Medicaid/means-tested public coverage only',\n",
       "    'Estimate!!Total:!!35 to 64 years:!!With one type of health insurance coverage:!!With TRICARE/military health coverage only',\n",
       "    'Estimate!!Total:!!35 to 64 years:!!With one type of health insurance coverage:!!With VA Health Care only',\n",
       "    'Estimate!!Total:!!35 to 64 years:!!With two or more types of health insurance coverage:',\n",
       "    'Estimate!!Total:!!35 to 64 years:!!With two or more types of health insurance coverage:!!With employer-based and direct-purchase coverage',\n",
       "    'Estimate!!Total:!!35 to 64 years:!!With two or more types of health insurance coverage:!!With employer-based and Medicare coverage',\n",
       "    'Estimate!!Total:!!35 to 64 years:!!With two or more types of health insurance coverage:!!With direct-purchase and Medicare coverage',\n",
       "    'Estimate!!Total:!!35 to 64 years:!!With two or more types of health insurance coverage:!!With Medicare and Medicaid/means-tested public coverage',\n",
       "    'Estimate!!Total:!!35 to 64 years:!!With two or more types of health insurance coverage:!!Other private only combinations',\n",
       "    'Estimate!!Total:!!35 to 64 years:!!With two or more types of health insurance coverage:!!Other public only combinations',\n",
       "    'Estimate!!Total:!!35 to 64 years:!!With two or more types of health insurance coverage:!!Other coverage combinations',\n",
       "    'Estimate!!Total:!!65 years and over:',\n",
       "    'Estimate!!Total:!!65 years and over:!!With one type of health insurance coverage:',\n",
       "    'Estimate!!Total:!!65 years and over:!!With one type of health insurance coverage:!!With employer-based health insurance only',\n",
       "    'Estimate!!Total:!!65 years and over:!!With one type of health insurance coverage:!!With direct-purchase health insurance only',\n",
       "    'Estimate!!Total:!!65 years and over:!!With one type of health insurance coverage:!!With Medicare coverage only',\n",
       "    'Estimate!!Total:!!65 years and over:!!With one type of health insurance coverage:!!With TRICARE/military health coverage only',\n",
       "    'Estimate!!Total:!!65 years and over:!!With one type of health insurance coverage:!!With VA Health Care only',\n",
       "    'Estimate!!Total:!!65 years and over:!!With two or more types of health insurance coverage:',\n",
       "    'Estimate!!Total:!!65 years and over:!!With two or more types of health insurance coverage:!!With employer-based and direct-purchase coverage',\n",
       "    'Estimate!!Total:!!65 years and over:!!With two or more types of health insurance coverage:!!With employer-based and Medicare coverage',\n",
       "    'Estimate!!Total:!!65 years and over:!!With two or more types of health insurance coverage:!!With direct-purchase and Medicare coverage',\n",
       "    'Estimate!!Total:!!65 years and over:!!With two or more types of health insurance coverage:!!With Medicare and Medicaid/means-tested public coverage',\n",
       "    'Estimate!!Total:!!65 years and over:!!With two or more types of health insurance coverage:!!Other private only combinations',\n",
       "    'Estimate!!Total:!!65 years and over:!!With two or more types of health insurance coverage:!!Other public only combinations',\n",
       "    'Estimate!!Total:!!65 years and over:!!With two or more types of health insurance coverage:!!Other coverage combinations'],\n",
       "   'code_to_alias_column_mappings': {},\n",
       "   'original_file_path': '',\n",
       "   'centralized_file_dir': ''}),\n",
       " ('households_with_a_computer',\n",
       "  {'original_name': 'Households with a computer',\n",
       "   'cols_to_drop': ['Estimate!!Total:',\n",
       "    'Estimate!!Total:!!Has one or more types of computing devices:',\n",
       "    'Estimate!!Total:!!Has one or more types of computing devices:!!Desktop or laptop',\n",
       "    'Estimate!!Total:!!Has one or more types of computing devices:!!Desktop or laptop!!Desktop or laptop alone',\n",
       "    'Estimate!!Total:!!Has one or more types of computing devices:!!Smartphone, tablet or other portable wireless computer or other computer',\n",
       "    'Estimate!!Total:!!Has one or more types of computing devices:!!Smartphone, tablet or other portable wireless computer or other computer!!Smartphone, tablet or other portable wireless computer or other computer, no desktop or laptop'],\n",
       "   'code_to_alias_column_mappings': {},\n",
       "   'original_file_path': '',\n",
       "   'centralized_file_dir': ''}),\n",
       " ('internet_subscription_in_household',\n",
       "  {'original_name': 'Internet subscription in household',\n",
       "   'cols_to_drop': ['Estimate!!Total:',\n",
       "    'Estimate!!Total:!!With an Internet subscription',\n",
       "    'Estimate!!Total:!!With an Internet subscription!!Dial-up alone',\n",
       "    'Estimate!!Total:!!With an Internet subscription!!Broadband such as cable, fiber optic, or DSL',\n",
       "    'Estimate!!Total:!!With an Internet subscription!!Satellite Internet service',\n",
       "    'Estimate!!Total:!!With an Internet subscription!!Other service',\n",
       "    'Estimate!!Total:!!Internet access without a subscription'],\n",
       "   'code_to_alias_column_mappings': {},\n",
       "   'original_file_path': '',\n",
       "   'centralized_file_dir': ''}),\n",
       " ('limited_english_speaking_households',\n",
       "  {'original_name': 'Limited English speaking households',\n",
       "   'cols_to_drop': ['Estimate!!Total:',\n",
       "    'Estimate!!Total:!!English only',\n",
       "    'Estimate!!Total:!!Spanish:',\n",
       "    'Estimate!!Total:!!Spanish:!!Not a limited English speaking household',\n",
       "    'Estimate!!Total:!!Other Indo-European languages:',\n",
       "    'Estimate!!Total:!!Other Indo-European languages:!!Not a limited English speaking household',\n",
       "    'Estimate!!Total:!!Asian and Pacific Island languages:',\n",
       "    'Estimate!!Total:!!Asian and Pacific Island languages:!!Not a limited English speaking household',\n",
       "    'Estimate!!Total:!!Other languages:',\n",
       "    'Estimate!!Total:!!Other languages:!!Not a limited English speaking household'],\n",
       "   'code_to_alias_column_mappings': {},\n",
       "   'original_file_path': '',\n",
       "   'centralized_file_dir': ''}),\n",
       " ('living_arragements_including_living_alone_by_sex_and_relationship',\n",
       "  {'original_name': 'Living arragements, including living alone, by sex and relationship',\n",
       "   'cols_to_drop': ['Estimate!!Total:',\n",
       "    'Estimate!!Total:!!In households:',\n",
       "    'Estimate!!Total:!!In households:!!Householder:',\n",
       "    'Estimate!!Total:!!In households:!!Householder:!!Male:',\n",
       "    'Estimate!!Total:!!In households:!!Householder:!!Male:!!Not living alone',\n",
       "    'Estimate!!Total:!!In households:!!Householder:!!Female:',\n",
       "    'Estimate!!Total:!!In households:!!Householder:!!Female:!!Not living alone',\n",
       "    'Estimate!!Total:!!In households:!!Opposite-sex spouse',\n",
       "    'Estimate!!Total:!!In households:!!Same-sex spouse',\n",
       "    'Estimate!!Total:!!In households:!!Opposite-sex unmarried partner',\n",
       "    'Estimate!!Total:!!In households:!!Same-sex unmarried partner',\n",
       "    'Estimate!!Total:!!In households:!!Child:',\n",
       "    'Estimate!!Total:!!In households:!!Child:!!Biological child',\n",
       "    'Estimate!!Total:!!In households:!!Child:!!Adopted child',\n",
       "    'Estimate!!Total:!!In households:!!Child:!!Stepchild',\n",
       "    'Estimate!!Total:!!In households:!!Grandchild',\n",
       "    'Estimate!!Total:!!In households:!!Brother or sister',\n",
       "    'Estimate!!Total:!!In households:!!Parent',\n",
       "    'Estimate!!Total:!!In households:!!Parent-in-law',\n",
       "    'Estimate!!Total:!!In households:!!Son-in-law or daughter-in-law',\n",
       "    'Estimate!!Total:!!In households:!!Other relatives',\n",
       "    'Estimate!!Total:!!In households:!!Foster child',\n",
       "    'Estimate!!Total:!!In households:!!Other nonrelatives',\n",
       "    'Estimate!!Total:!!In group quarters'],\n",
       "   'code_to_alias_column_mappings': {},\n",
       "   'original_file_path': '',\n",
       "   'centralized_file_dir': ''}),\n",
       " ('income_share_of_fpl',\n",
       "  {'original_name': 'Income share of FPL',\n",
       "   'cols_to_drop': ['Estimate!!Total:!!2.00 and over'],\n",
       "   'code_to_alias_column_mappings': {},\n",
       "   'original_file_path': '',\n",
       "   'centralized_file_dir': ''}),\n",
       " ('persons_under_5_65_years_table',\n",
       "  {'original_name': 'Persons under 5 & 65 years_table',\n",
       "   'cols_to_drop': ['Estimate!!Total:',\n",
       "    'Estimate!!Total:!!Male:!!18 and 19 years',\n",
       "    'Estimate!!Total:!!Male:!!20 years',\n",
       "    'Estimate!!Total:!!Male:!!21 years',\n",
       "    'Estimate!!Total:!!Male:!!22 to 24 years',\n",
       "    'Estimate!!Total:!!Male:!!25 to 29 years',\n",
       "    'Estimate!!Total:!!Male:!!30 to 34 years',\n",
       "    'Estimate!!Total:!!Male:!!35 to 39 years',\n",
       "    'Estimate!!Total:!!Male:!!40 to 44 years',\n",
       "    'Estimate!!Total:!!Male:!!45 to 49 years',\n",
       "    'Estimate!!Total:!!Male:!!50 to 54 years',\n",
       "    'Estimate!!Total:!!Male:!!55 to 59 years',\n",
       "    'Estimate!!Total:!!Male:!!60 and 61 years',\n",
       "    'Estimate!!Total:!!Male:!!62 to 64 years',\n",
       "    'Estimate!!Total:!!Female:!!10 to 14 years',\n",
       "    'Estimate!!Total:!!Female:!!15 to 17 years',\n",
       "    'Estimate!!Total:!!Female:!!18 and 19 years',\n",
       "    'Estimate!!Total:!!Female:!!20 years',\n",
       "    'Estimate!!Total:!!Female:!!21 years',\n",
       "    'Estimate!!Total:!!Female:!!22 to 24 years',\n",
       "    'Estimate!!Total:!!Female:!!25 to 29 years',\n",
       "    'Estimate!!Total:!!Female:!!30 to 34 years',\n",
       "    'Estimate!!Total:!!Female:!!35 to 39 years',\n",
       "    'Estimate!!Total:!!Female:!!40 to 44 years',\n",
       "    'Estimate!!Total:!!Female:!!45 to 49 years',\n",
       "    'Estimate!!Total:!!Female:!!50 to 54 years',\n",
       "    'Estimate!!Total:!!Female:!!55 to 59 years',\n",
       "    'Estimate!!Total:!!Female:!!60 and 61 years',\n",
       "    'Estimate!!Total:!!Female:!!62 to 64 years'],\n",
       "   'code_to_alias_column_mappings': {},\n",
       "   'original_file_path': '',\n",
       "   'centralized_file_dir': ''}),\n",
       " ('population_in_group_quarters',\n",
       "  {'original_name': 'Population in group quarters',\n",
       "   'cols_to_drop': ['!!Total:',\n",
       "    '!!Total:!!Noninstitutionalized population:',\n",
       "    '!!Total:!!Noninstitutionalized population:!!College/University student housing',\n",
       "    '!!Total:!!Noninstitutionalized population:!!Military quarters',\n",
       "    '!!Total:!!Noninstitutionalized population:!!Other noninstitutional facilities'],\n",
       "   'code_to_alias_column_mappings': {},\n",
       "   'original_file_path': '',\n",
       "   'centralized_file_dir': ''}),\n",
       " ('race_origin',\n",
       "  {'original_name': 'Race_origin',\n",
       "   'cols_to_drop': ['Estimate!!Total:',\n",
       "    'Estimate!!Total:!!Two or More Races:!!Two races including Some Other Race',\n",
       "    'Estimate!!Total:!!Two or More Races:!!Two races excluding Some Other Race, and three or more races'],\n",
       "   'code_to_alias_column_mappings': {},\n",
       "   'original_file_path': '',\n",
       "   'centralized_file_dir': ''}),\n",
       " ('tenure',\n",
       "  {'original_name': 'Tenure',\n",
       "   'cols_to_drop': ['Estimate!!Total:',\n",
       "    'Estimate!!Total:!!Owner occupied',\n",
       "    'Clean Hawaiian homelands same as above for marked datasets'],\n",
       "   'code_to_alias_column_mappings': {},\n",
       "   'original_file_path': '',\n",
       "   'centralized_file_dir': ''}),\n",
       " ('2022_census_hawaiian_homelands',\n",
       "  {'original_name': '2022 Census Hawaiian Homelands',\n",
       "   'cols_to_drop': ['Estimate!!Total!!Total population',\n",
       "    'Estimate!!Total!!Total population!!AGE!!18 to 24 years',\n",
       "    'Estimate!!Total!!Total population!!AGE!!25 to 44 years',\n",
       "    'Estimate!!Total!!Total population!!AGE!!45 to 54 years',\n",
       "    'Estimate!!Total!!Total population!!AGE!!55 to 64 years',\n",
       "    'Estimate!!Total!!Total population!!AGE!!Median age (years)',\n",
       "    'Estimate!!Total!!Total population!!RACE AND HISPANIC OR LATINO ORIGIN!!One race',\n",
       "    'Estimate!!Total!!LANGUAGE SPOKEN AT HOME AND ABILITY TO SPEAK ENGLISH!!Population 5 years and over',\n",
       "    'Estimate!!Total!!LANGUAGE SPOKEN AT HOME AND ABILITY TO SPEAK ENGLISH!!Population 5 years and over!!Speak language other than English',\n",
       "    'Estimate!!Total!!LANGUAGE SPOKEN AT HOME AND ABILITY TO SPEAK ENGLISH!!Population 5 years and over!!Speak language other than English!!Speak English very well\"\"',\n",
       "    'Estimate!!Total!!MARITAL STATUS!!Population 15 years and over',\n",
       "    'Estimate!!Total!!MARITAL STATUS!!Population 15 years and over!!Never married',\n",
       "    'Estimate!!Total!!MARITAL STATUS!!Population 15 years and over!!Now married, except separated',\n",
       "    'Estimate!!Total!!MARITAL STATUS!!Population 15 years and over!!Divorced or separated',\n",
       "    'Estimate!!Total!!MARITAL STATUS!!Population 15 years and over!!Widowed',\n",
       "    'Estimate!!Total!!EDUCATIONAL ATTAINMENT!!Population 25 years and over',\n",
       "    'Estimate!!Total!!EDUCATIONAL ATTAINMENT!!Population 25 years and over!!Less than high school graduate',\n",
       "    'Estimate!!Total!!EDUCATIONAL ATTAINMENT!!Population 25 years and over!!High school graduate (includes equivalency)',\n",
       "    \"Estimate!!Total!!EDUCATIONAL ATTAINMENT!!Population 25 years and over!!Some college or associate's degree\",\n",
       "    \"Estimate!!Total!!EDUCATIONAL ATTAINMENT!!Population 25 years and over!!Bachelor's degree\",\n",
       "    'Estimate!!Total!!EDUCATIONAL ATTAINMENT!!Population 25 years and over!!Graduate or professional degree',\n",
       "    \"Estimate!!Total!!INDIVIDUALS' INCOME IN THE PAST 12 MONTHS (IN 2022 INFLATION-ADJUSTED DOLLARS)!!Population 15 years and over\",\n",
       "    \"Estimate!!Total!!INDIVIDUALS' INCOME IN THE PAST 12 MONTHS (IN 2022 INFLATION-ADJUSTED DOLLARS)!!Population 15 years and over!!$1 to $9,999 or loss\",\n",
       "    \"Estimate!!Total!!INDIVIDUALS' INCOME IN THE PAST 12 MONTHS (IN 2022 INFLATION-ADJUSTED DOLLARS)!!Population 15 years and over!!$10,000 to $14,999\",\n",
       "    \"Estimate!!Total!!INDIVIDUALS' INCOME IN THE PAST 12 MONTHS (IN 2022 INFLATION-ADJUSTED DOLLARS)!!Population 15 years and over!!$15,000 to $24,999\",\n",
       "    \"Estimate!!Total!!INDIVIDUALS' INCOME IN THE PAST 12 MONTHS (IN 2022 INFLATION-ADJUSTED DOLLARS)!!Population 15 years and over!!$25,000 to $34,999\",\n",
       "    \"Estimate!!Total!!INDIVIDUALS' INCOME IN THE PAST 12 MONTHS (IN 2022 INFLATION-ADJUSTED DOLLARS)!!Population 15 years and over!!$35,000 to $49,999\",\n",
       "    \"Estimate!!Total!!INDIVIDUALS' INCOME IN THE PAST 12 MONTHS (IN 2022 INFLATION-ADJUSTED DOLLARS)!!Population 15 years and over!!$50,000 to $64,999\",\n",
       "    \"Estimate!!Total!!INDIVIDUALS' INCOME IN THE PAST 12 MONTHS (IN 2022 INFLATION-ADJUSTED DOLLARS)!!Population 15 years and over!!$65,000 to $74,999\",\n",
       "    \"Estimate!!Total!!INDIVIDUALS' INCOME IN THE PAST 12 MONTHS (IN 2022 INFLATION-ADJUSTED DOLLARS)!!Population 15 years and over!!$75,000 or more\",\n",
       "    'Estimate!!Total!!POVERTY STATUS IN THE PAST 12 MONTHS!!Population for whom poverty status is determined',\n",
       "    'Estimate!!Total!!POVERTY STATUS IN THE PAST 12 MONTHS!!Population for whom poverty status is determined!!At or above 150 percent of the poverty level',\n",
       "    'Estimate!!Total!!PERCENT ALLOCATED!!Citizenship status',\n",
       "    'Estimate!!Total!!PERCENT ALLOCATED!!Place of birth',\n",
       "    'Estimate!!Native; born in state of residence!!Total population',\n",
       "    'Estimate!!Native; born in state of residence!!Total population!!AGE!!Under 5 years',\n",
       "    'Estimate!!Native; born in state of residence!!Total population!!AGE!!5 to 17 years',\n",
       "    'Estimate!!Native; born in state of residence!!Total population!!AGE!!18 to 24 years',\n",
       "    'Estimate!!Native; born in state of residence!!Total population!!AGE!!25 to 44 years',\n",
       "    'Estimate!!Native; born in state of residence!!Total population!!AGE!!45 to 54 years',\n",
       "    'Estimate!!Native; born in state of residence!!Total population!!AGE!!55 to 64 years',\n",
       "    'Estimate!!Native; born in state of residence!!Total population!!AGE!!65 to 74 years',\n",
       "    'Estimate!!Native; born in state of residence!!Total population!!AGE!!75 years and over',\n",
       "    'Estimate!!Native; born in state of residence!!Total population!!AGE!!Median age (years)',\n",
       "    'Estimate!!Native; born in state of residence!!Total population!!SEX!!Male',\n",
       "    'Estimate!!Native; born in state of residence!!Total population!!SEX!!Female',\n",
       "    'Estimate!!Native; born in state of residence!!Total population!!RACE AND HISPANIC OR LATINO ORIGIN!!One race',\n",
       "    'Estimate!!Native; born in state of residence!!Total population!!RACE AND HISPANIC OR LATINO ORIGIN!!One race!!White',\n",
       "    'Estimate!!Native; born in state of residence!!Total population!!RACE AND HISPANIC OR LATINO ORIGIN!!One race!!Black or African American',\n",
       "    'Estimate!!Native; born in state of residence!!Total population!!RACE AND HISPANIC OR LATINO ORIGIN!!One race!!American Indian and Alaska Native',\n",
       "    'Estimate!!Native; born in state of residence!!Total population!!RACE AND HISPANIC OR LATINO ORIGIN!!One race!!Asian',\n",
       "    'Estimate!!Native; born in state of residence!!Total population!!RACE AND HISPANIC OR LATINO ORIGIN!!One race!!Native Hawaiian and Other Pacific Islander',\n",
       "    'Estimate!!Native; born in state of residence!!Total population!!RACE AND HISPANIC OR LATINO ORIGIN!!One race!!Some other race',\n",
       "    'Estimate!!Native; born in state of residence!!Total population!!RACE AND HISPANIC OR LATINO ORIGIN!!Two or more races',\n",
       "    'Estimate!!Native; born in state of residence!!Total population!!RACE AND HISPANIC OR LATINO ORIGIN!!Hispanic or Latino origin (of any race)',\n",
       "    'Estimate!!Native; born in state of residence!!Total population!!RACE AND HISPANIC OR LATINO ORIGIN!!White alone, not Hispanic or Latino',\n",
       "    'Estimate!!Native; born in state of residence!!LANGUAGE SPOKEN AT HOME AND ABILITY TO SPEAK ENGLISH!!Population 5 years and over',\n",
       "    'Estimate!!Native; born in state of residence!!LANGUAGE SPOKEN AT HOME AND ABILITY TO SPEAK ENGLISH!!Population 5 years and over!!Speak language other than English',\n",
       "    'Estimate!!Native; born in state of residence!!LANGUAGE SPOKEN AT HOME AND ABILITY TO SPEAK ENGLISH!!Population 5 years and over!!Speak language other than English!!Speak English very well\"\"',\n",
       "    'Estimate!!Native; born in state of residence!!LANGUAGE SPOKEN AT HOME AND ABILITY TO SPEAK ENGLISH!!Population 5 years and over!!Speak language other than English!!Speak English less than very well\"\"',\n",
       "    'Estimate!!Native; born in state of residence!!MARITAL STATUS!!Population 15 years and over',\n",
       "    'Estimate!!Native; born in state of residence!!MARITAL STATUS!!Population 15 years and over!!Never married',\n",
       "    'Estimate!!Native; born in state of residence!!MARITAL STATUS!!Population 15 years and over!!Now married, except separated',\n",
       "    'Estimate!!Native; born in state of residence!!MARITAL STATUS!!Population 15 years and over!!Divorced or separated',\n",
       "    'Estimate!!Native; born in state of residence!!MARITAL STATUS!!Population 15 years and over!!Widowed',\n",
       "    'Estimate!!Native; born in state of residence!!EDUCATIONAL ATTAINMENT!!Population 25 years and over',\n",
       "    'Estimate!!Native; born in state of residence!!EDUCATIONAL ATTAINMENT!!Population 25 years and over!!Less than high school graduate',\n",
       "    'Estimate!!Native; born in state of residence!!EDUCATIONAL ATTAINMENT!!Population 25 years and over!!High school graduate (includes equivalency)',\n",
       "    \"Estimate!!Native; born in state of residence!!EDUCATIONAL ATTAINMENT!!Population 25 years and over!!Some college or associate's degree\",\n",
       "    \"Estimate!!Native; born in state of residence!!EDUCATIONAL ATTAINMENT!!Population 25 years and over!!Bachelor's degree\",\n",
       "    'Estimate!!Native; born in state of residence!!EDUCATIONAL ATTAINMENT!!Population 25 years and over!!Graduate or professional degree',\n",
       "    \"Estimate!!Native; born in state of residence!!INDIVIDUALS' INCOME IN THE PAST 12 MONTHS (IN 2022 INFLATION-ADJUSTED DOLLARS)!!Population 15 years and over\",\n",
       "    \"Estimate!!Native; born in state of residence!!INDIVIDUALS' INCOME IN THE PAST 12 MONTHS (IN 2022 INFLATION-ADJUSTED DOLLARS)!!Population 15 years and over!!$1 to $9,999 or loss\",\n",
       "    \"Estimate!!Native; born in state of residence!!INDIVIDUALS' INCOME IN THE PAST 12 MONTHS (IN 2022 INFLATION-ADJUSTED DOLLARS)!!Population 15 years and over!!$10,000 to $14,999\",\n",
       "    \"Estimate!!Native; born in state of residence!!INDIVIDUALS' INCOME IN THE PAST 12 MONTHS (IN 2022 INFLATION-ADJUSTED DOLLARS)!!Population 15 years and over!!$15,000 to $24,999\",\n",
       "    \"Estimate!!Native; born in state of residence!!INDIVIDUALS' INCOME IN THE PAST 12 MONTHS (IN 2022 INFLATION-ADJUSTED DOLLARS)!!Population 15 years and over!!$25,000 to $34,999\",\n",
       "    \"Estimate!!Native; born in state of residence!!INDIVIDUALS' INCOME IN THE PAST 12 MONTHS (IN 2022 INFLATION-ADJUSTED DOLLARS)!!Population 15 years and over!!$35,000 to $49,999\",\n",
       "    \"Estimate!!Native; born in state of residence!!INDIVIDUALS' INCOME IN THE PAST 12 MONTHS (IN 2022 INFLATION-ADJUSTED DOLLARS)!!Population 15 years and over!!$50,000 to $64,999\",\n",
       "    \"Estimate!!Native; born in state of residence!!INDIVIDUALS' INCOME IN THE PAST 12 MONTHS (IN 2022 INFLATION-ADJUSTED DOLLARS)!!Population 15 years and over!!$65,000 to $74,999\",\n",
       "    \"Estimate!!Native; born in state of residence!!INDIVIDUALS' INCOME IN THE PAST 12 MONTHS (IN 2022 INFLATION-ADJUSTED DOLLARS)!!Population 15 years and over!!$75,000 or more\",\n",
       "    \"Estimate!!Native; born in state of residence!!INDIVIDUALS' INCOME IN THE PAST 12 MONTHS (IN 2022 INFLATION-ADJUSTED DOLLARS)!!Population 15 years and over!!Median income (dollars)\",\n",
       "    'Estimate!!Native; born in state of residence!!POVERTY STATUS IN THE PAST 12 MONTHS!!Population for whom poverty status is determined',\n",
       "    'Estimate!!Native; born in state of residence!!POVERTY STATUS IN THE PAST 12 MONTHS!!Population for whom poverty status is determined!!Below 100 percent of the poverty level',\n",
       "    'Estimate!!Native; born in state of residence!!POVERTY STATUS IN THE PAST 12 MONTHS!!Population for whom poverty status is determined!!100 to 149 percent of the poverty level',\n",
       "    'Estimate!!Native; born in state of residence!!POVERTY STATUS IN THE PAST 12 MONTHS!!Population for whom poverty status is determined!!At or above 150 percent of the poverty level',\n",
       "    'Estimate!!Native; born in state of residence!!PERCENT ALLOCATED!!Citizenship status',\n",
       "    'Estimate!!Native; born in state of residence!!PERCENT ALLOCATED!!Place of birth',\n",
       "    'Estimate!!Native; born in other state in the U.S.!!Total population',\n",
       "    'Estimate!!Native; born in other state in the U.S.!!Total population!!AGE!!Under 5 years',\n",
       "    'Estimate!!Native; born in other state in the U.S.!!Total population!!AGE!!5 to 17 years',\n",
       "    'Estimate!!Native; born in other state in the U.S.!!Total population!!AGE!!18 to 24 years',\n",
       "    'Estimate!!Native; born in other state in the U.S.!!Total population!!AGE!!25 to 44 years',\n",
       "    'Estimate!!Native; born in other state in the U.S.!!Total population!!AGE!!45 to 54 years',\n",
       "    'Estimate!!Native; born in other state in the U.S.!!Total population!!AGE!!55 to 64 years',\n",
       "    'Estimate!!Native; born in other state in the U.S.!!Total population!!AGE!!65 to 74 years',\n",
       "    'Estimate!!Native; born in other state in the U.S.!!Total population!!AGE!!75 years and over',\n",
       "    'Estimate!!Native; born in other state in the U.S.!!Total population!!AGE!!Median age (years)',\n",
       "    'Estimate!!Native; born in other state in the U.S.!!Total population!!SEX!!Male',\n",
       "    'Estimate!!Native; born in other state in the U.S.!!Total population!!SEX!!Female',\n",
       "    'Estimate!!Native; born in other state in the U.S.!!Total population!!RACE AND HISPANIC OR LATINO ORIGIN!!One race',\n",
       "    'Estimate!!Native; born in other state in the U.S.!!Total population!!RACE AND HISPANIC OR LATINO ORIGIN!!One race!!White',\n",
       "    'Estimate!!Native; born in other state in the U.S.!!Total population!!RACE AND HISPANIC OR LATINO ORIGIN!!One race!!Black or African American',\n",
       "    'Estimate!!Native; born in other state in the U.S.!!Total population!!RACE AND HISPANIC OR LATINO ORIGIN!!One race!!American Indian and Alaska Native',\n",
       "    'Estimate!!Native; born in other state in the U.S.!!Total population!!RACE AND HISPANIC OR LATINO ORIGIN!!One race!!Asian',\n",
       "    'Estimate!!Native; born in other state in the U.S.!!Total population!!RACE AND HISPANIC OR LATINO ORIGIN!!One race!!Native Hawaiian and Other Pacific Islander',\n",
       "    'Estimate!!Native; born in other state in the U.S.!!Total population!!RACE AND HISPANIC OR LATINO ORIGIN!!One race!!Some other race',\n",
       "    'Estimate!!Native; born in other state in the U.S.!!Total population!!RACE AND HISPANIC OR LATINO ORIGIN!!Two or more races',\n",
       "    'Estimate!!Native; born in other state in the U.S.!!Total population!!RACE AND HISPANIC OR LATINO ORIGIN!!Hispanic or Latino origin (of any race)',\n",
       "    'Estimate!!Native; born in other state in the U.S.!!Total population!!RACE AND HISPANIC OR LATINO ORIGIN!!White alone, not Hispanic or Latino',\n",
       "    'Estimate!!Native; born in other state in the U.S.!!LANGUAGE SPOKEN AT HOME AND ABILITY TO SPEAK ENGLISH!!Population 5 years and over',\n",
       "    'Estimate!!Native; born in other state in the U.S.!!LANGUAGE SPOKEN AT HOME AND ABILITY TO SPEAK ENGLISH!!Population 5 years and over!!Speak language other than English',\n",
       "    'Estimate!!Native; born in other state in the U.S.!!LANGUAGE SPOKEN AT HOME AND ABILITY TO SPEAK ENGLISH!!Population 5 years and over!!Speak language other than English!!Speak English very well\"\"',\n",
       "    'Estimate!!Native; born in other state in the U.S.!!LANGUAGE SPOKEN AT HOME AND ABILITY TO SPEAK ENGLISH!!Population 5 years and over!!Speak language other than English!!Speak English less than very well\"\"',\n",
       "    'Estimate!!Native; born in other state in the U.S.!!MARITAL STATUS!!Population 15 years and over',\n",
       "    'Estimate!!Native; born in other state in the U.S.!!MARITAL STATUS!!Population 15 years and over!!Never married',\n",
       "    'Estimate!!Native; born in other state in the U.S.!!MARITAL STATUS!!Population 15 years and over!!Now married, except separated',\n",
       "    'Estimate!!Native; born in other state in the U.S.!!MARITAL STATUS!!Population 15 years and over!!Divorced or separated',\n",
       "    'Estimate!!Native; born in other state in the U.S.!!MARITAL STATUS!!Population 15 years and over!!Widowed',\n",
       "    'Estimate!!Native; born in other state in the U.S.!!EDUCATIONAL ATTAINMENT!!Population 25 years and over',\n",
       "    'Estimate!!Native; born in other state in the U.S.!!EDUCATIONAL ATTAINMENT!!Population 25 years and over!!Less than high school graduate',\n",
       "    'Estimate!!Native; born in other state in the U.S.!!EDUCATIONAL ATTAINMENT!!Population 25 years and over!!High school graduate (includes equivalency)',\n",
       "    \"Estimate!!Native; born in other state in the U.S.!!EDUCATIONAL ATTAINMENT!!Population 25 years and over!!Some college or associate's degree\",\n",
       "    \"Estimate!!Native; born in other state in the U.S.!!EDUCATIONAL ATTAINMENT!!Population 25 years and over!!Bachelor's degree\",\n",
       "    'Estimate!!Native; born in other state in the U.S.!!EDUCATIONAL ATTAINMENT!!Population 25 years and over!!Graduate or professional degree',\n",
       "    \"Estimate!!Native; born in other state in the U.S.!!INDIVIDUALS' INCOME IN THE PAST 12 MONTHS (IN 2022 INFLATION-ADJUSTED DOLLARS)!!Population 15 years and over\",\n",
       "    \"Estimate!!Native; born in other state in the U.S.!!INDIVIDUALS' INCOME IN THE PAST 12 MONTHS (IN 2022 INFLATION-ADJUSTED DOLLARS)!!Population 15 years and over!!$1 to $9,999 or loss\",\n",
       "    \"Estimate!!Native; born in other state in the U.S.!!INDIVIDUALS' INCOME IN THE PAST 12 MONTHS (IN 2022 INFLATION-ADJUSTED DOLLARS)!!Population 15 years and over!!$10,000 to $14,999\",\n",
       "    \"Estimate!!Native; born in other state in the U.S.!!INDIVIDUALS' INCOME IN THE PAST 12 MONTHS (IN 2022 INFLATION-ADJUSTED DOLLARS)!!Population 15 years and over!!$15,000 to $24,999\",\n",
       "    \"Estimate!!Native; born in other state in the U.S.!!INDIVIDUALS' INCOME IN THE PAST 12 MONTHS (IN 2022 INFLATION-ADJUSTED DOLLARS)!!Population 15 years and over!!$25,000 to $34,999\",\n",
       "    \"Estimate!!Native; born in other state in the U.S.!!INDIVIDUALS' INCOME IN THE PAST 12 MONTHS (IN 2022 INFLATION-ADJUSTED DOLLARS)!!Population 15 years and over!!$35,000 to $49,999\",\n",
       "    \"Estimate!!Native; born in other state in the U.S.!!INDIVIDUALS' INCOME IN THE PAST 12 MONTHS (IN 2022 INFLATION-ADJUSTED DOLLARS)!!Population 15 years and over!!$50,000 to $64,999\",\n",
       "    \"Estimate!!Native; born in other state in the U.S.!!INDIVIDUALS' INCOME IN THE PAST 12 MONTHS (IN 2022 INFLATION-ADJUSTED DOLLARS)!!Population 15 years and over!!$65,000 to $74,999\",\n",
       "    \"Estimate!!Native; born in other state in the U.S.!!INDIVIDUALS' INCOME IN THE PAST 12 MONTHS (IN 2022 INFLATION-ADJUSTED DOLLARS)!!Population 15 years and over!!$75,000 or more\",\n",
       "    \"Estimate!!Native; born in other state in the U.S.!!INDIVIDUALS' INCOME IN THE PAST 12 MONTHS (IN 2022 INFLATION-ADJUSTED DOLLARS)!!Population 15 years and over!!Median income (dollars)\",\n",
       "    'Estimate!!Native; born in other state in the U.S.!!POVERTY STATUS IN THE PAST 12 MONTHS!!Population for whom poverty status is determined',\n",
       "    'Estimate!!Native; born in other state in the U.S.!!POVERTY STATUS IN THE PAST 12 MONTHS!!Population for whom poverty status is determined!!Below 100 percent of the poverty level',\n",
       "    'Estimate!!Native; born in other state in the U.S.!!POVERTY STATUS IN THE PAST 12 MONTHS!!Population for whom poverty status is determined!!100 to 149 percent of the poverty level',\n",
       "    'Estimate!!Native; born in other state in the U.S.!!POVERTY STATUS IN THE PAST 12 MONTHS!!Population for whom poverty status is determined!!At or above 150 percent of the poverty level',\n",
       "    'Estimate!!Native; born in other state in the U.S.!!PERCENT ALLOCATED!!Citizenship status',\n",
       "    'Estimate!!Native; born in other state in the U.S.!!PERCENT ALLOCATED!!Place of birth',\n",
       "    'Estimate!!Native; born outside U.S.!!Total population',\n",
       "    'Estimate!!Native; born outside U.S.!!Total population!!AGE!!Under 5 years',\n",
       "    'Estimate!!Native; born outside U.S.!!Total population!!AGE!!5 to 17 years',\n",
       "    'Estimate!!Native; born outside U.S.!!Total population!!AGE!!18 to 24 years',\n",
       "    'Estimate!!Native; born outside U.S.!!Total population!!AGE!!25 to 44 years',\n",
       "    'Estimate!!Native; born outside U.S.!!Total population!!AGE!!45 to 54 years',\n",
       "    'Estimate!!Native; born outside U.S.!!Total population!!AGE!!55 to 64 years',\n",
       "    'Estimate!!Native; born outside U.S.!!Total population!!AGE!!65 to 74 years',\n",
       "    'Estimate!!Native; born outside U.S.!!Total population!!AGE!!75 years and over',\n",
       "    'Estimate!!Native; born outside U.S.!!Total population!!AGE!!Median age (years)',\n",
       "    'Estimate!!Native; born outside U.S.!!Total population!!SEX!!Male',\n",
       "    'Estimate!!Native; born outside U.S.!!Total population!!SEX!!Female',\n",
       "    'Estimate!!Native; born outside U.S.!!Total population!!RACE AND HISPANIC OR LATINO ORIGIN!!One race',\n",
       "    'Estimate!!Native; born outside U.S.!!Total population!!RACE AND HISPANIC OR LATINO ORIGIN!!One race!!White',\n",
       "    'Estimate!!Native; born outside U.S.!!Total population!!RACE AND HISPANIC OR LATINO ORIGIN!!One race!!Black or African American',\n",
       "    'Estimate!!Native; born outside U.S.!!Total population!!RACE AND HISPANIC OR LATINO ORIGIN!!One race!!American Indian and Alaska Native',\n",
       "    'Estimate!!Native; born outside U.S.!!Total population!!RACE AND HISPANIC OR LATINO ORIGIN!!One race!!Asian',\n",
       "    'Estimate!!Native; born outside U.S.!!Total population!!RACE AND HISPANIC OR LATINO ORIGIN!!One race!!Native Hawaiian and Other Pacific Islander',\n",
       "    'Estimate!!Native; born outside U.S.!!Total population!!RACE AND HISPANIC OR LATINO ORIGIN!!One race!!Some other race',\n",
       "    'Estimate!!Native; born outside U.S.!!Total population!!RACE AND HISPANIC OR LATINO ORIGIN!!Two or more races',\n",
       "    'Estimate!!Native; born outside U.S.!!Total population!!RACE AND HISPANIC OR LATINO ORIGIN!!Hispanic or Latino origin (of any race)',\n",
       "    'Estimate!!Native; born outside U.S.!!Total population!!RACE AND HISPANIC OR LATINO ORIGIN!!White alone, not Hispanic or Latino',\n",
       "    'Estimate!!Native; born outside U.S.!!LANGUAGE SPOKEN AT HOME AND ABILITY TO SPEAK ENGLISH!!Population 5 years and over',\n",
       "    'Estimate!!Native; born outside U.S.!!LANGUAGE SPOKEN AT HOME AND ABILITY TO SPEAK ENGLISH!!Population 5 years and over!!Speak language other than English',\n",
       "    'Estimate!!Native; born outside U.S.!!LANGUAGE SPOKEN AT HOME AND ABILITY TO SPEAK ENGLISH!!Population 5 years and over!!Speak language other than English!!Speak English very well\"\"',\n",
       "    'Estimate!!Native; born outside U.S.!!LANGUAGE SPOKEN AT HOME AND ABILITY TO SPEAK ENGLISH!!Population 5 years and over!!Speak language other than English!!Speak English less than very well\"\"',\n",
       "    'Estimate!!Native; born outside U.S.!!MARITAL STATUS!!Population 15 years and over',\n",
       "    'Estimate!!Native; born outside U.S.!!MARITAL STATUS!!Population 15 years and over!!Never married',\n",
       "    'Estimate!!Native; born outside U.S.!!MARITAL STATUS!!Population 15 years and over!!Now married, except separated',\n",
       "    'Estimate!!Native; born outside U.S.!!MARITAL STATUS!!Population 15 years and over!!Divorced or separated',\n",
       "    'Estimate!!Native; born outside U.S.!!MARITAL STATUS!!Population 15 years and over!!Widowed',\n",
       "    'Estimate!!Native; born outside U.S.!!EDUCATIONAL ATTAINMENT!!Population 25 years and over',\n",
       "    'Estimate!!Native; born outside U.S.!!EDUCATIONAL ATTAINMENT!!Population 25 years and over!!Less than high school graduate',\n",
       "    'Estimate!!Native; born outside U.S.!!EDUCATIONAL ATTAINMENT!!Population 25 years and over!!High school graduate (includes equivalency)',\n",
       "    \"Estimate!!Native; born outside U.S.!!EDUCATIONAL ATTAINMENT!!Population 25 years and over!!Some college or associate's degree\",\n",
       "    \"Estimate!!Native; born outside U.S.!!EDUCATIONAL ATTAINMENT!!Population 25 years and over!!Bachelor's degree\",\n",
       "    'Estimate!!Native; born outside U.S.!!EDUCATIONAL ATTAINMENT!!Population 25 years and over!!Graduate or professional degree',\n",
       "    \"Estimate!!Native; born outside U.S.!!INDIVIDUALS' INCOME IN THE PAST 12 MONTHS (IN 2022 INFLATION-ADJUSTED DOLLARS)!!Population 15 years and over\",\n",
       "    \"Estimate!!Native; born outside U.S.!!INDIVIDUALS' INCOME IN THE PAST 12 MONTHS (IN 2022 INFLATION-ADJUSTED DOLLARS)!!Population 15 years and over!!$1 to $9,999 or loss\",\n",
       "    \"Estimate!!Native; born outside U.S.!!INDIVIDUALS' INCOME IN THE PAST 12 MONTHS (IN 2022 INFLATION-ADJUSTED DOLLARS)!!Population 15 years and over!!$10,000 to $14,999\",\n",
       "    \"Estimate!!Native; born outside U.S.!!INDIVIDUALS' INCOME IN THE PAST 12 MONTHS (IN 2022 INFLATION-ADJUSTED DOLLARS)!!Population 15 years and over!!$15,000 to $24,999\",\n",
       "    \"Estimate!!Native; born outside U.S.!!INDIVIDUALS' INCOME IN THE PAST 12 MONTHS (IN 2022 INFLATION-ADJUSTED DOLLARS)!!Population 15 years and over!!$25,000 to $34,999\",\n",
       "    \"Estimate!!Native; born outside U.S.!!INDIVIDUALS' INCOME IN THE PAST 12 MONTHS (IN 2022 INFLATION-ADJUSTED DOLLARS)!!Population 15 years and over!!$35,000 to $49,999\",\n",
       "    \"Estimate!!Native; born outside U.S.!!INDIVIDUALS' INCOME IN THE PAST 12 MONTHS (IN 2022 INFLATION-ADJUSTED DOLLARS)!!Population 15 years and over!!$50,000 to $64,999\",\n",
       "    \"Estimate!!Native; born outside U.S.!!INDIVIDUALS' INCOME IN THE PAST 12 MONTHS (IN 2022 INFLATION-ADJUSTED DOLLARS)!!Population 15 years and over!!$65,000 to $74,999\",\n",
       "    \"Estimate!!Native; born outside U.S.!!INDIVIDUALS' INCOME IN THE PAST 12 MONTHS (IN 2022 INFLATION-ADJUSTED DOLLARS)!!Population 15 years and over!!$75,000 or more\",\n",
       "    \"Estimate!!Native; born outside U.S.!!INDIVIDUALS' INCOME IN THE PAST 12 MONTHS (IN 2022 INFLATION-ADJUSTED DOLLARS)!!Population 15 years and over!!Median income (dollars)\",\n",
       "    'Estimate!!Native; born outside U.S.!!POVERTY STATUS IN THE PAST 12 MONTHS!!Population for whom poverty status is determined',\n",
       "    'Estimate!!Native; born outside U.S.!!POVERTY STATUS IN THE PAST 12 MONTHS!!Population for whom poverty status is determined!!Below 100 percent of the poverty level',\n",
       "    'Estimate!!Native; born outside U.S.!!POVERTY STATUS IN THE PAST 12 MONTHS!!Population for whom poverty status is determined!!100 to 149 percent of the poverty level',\n",
       "    'Estimate!!Native; born outside U.S.!!POVERTY STATUS IN THE PAST 12 MONTHS!!Population for whom poverty status is determined!!At or above 150 percent of the poverty level',\n",
       "    'Estimate!!Native; born outside U.S.!!PERCENT ALLOCATED!!Citizenship status',\n",
       "    'Estimate!!Native; born outside U.S.!!PERCENT ALLOCATED!!Place of birth'],\n",
       "   'code_to_alias_column_mappings': {},\n",
       "   'original_file_path': '',\n",
       "   'centralized_file_dir': ''})]"
      ]
     },
     "execution_count": 6,
     "metadata": {},
     "output_type": "execute_result"
    }
   ],
   "source": [
    "list(file_blocks.items())"
   ]
  },
  {
   "cell_type": "code",
   "execution_count": 7,
   "id": "73a8c6dc-f13d-4c6e-aa23-9d2a2dde3d1e",
   "metadata": {},
   "outputs": [],
   "source": [
    "exposures_path_head = os.path.expanduser(\"~/Desktop/Nextcloud/SCOVI Project/Metrics/All Exposures\")\n",
    "central_path_head = os.path.expanduser(\"~/Desktop/Nextcloud/SCOVI Project/Metrics/All Exposures/census/JPL\")\n",
    "cleaned_path_head = os.path.expanduser(\"~/Desktop/Nextcloud/SCOVI Project/Metrics/All Exposures/census/cleaned-data\")\n",
    "json_dir_path = os.path.expanduser(\"~/Desktop/Nextcloud/SCOVI Project/Metrics/All Exposures/census/census-jsons\")"
   ]
  },
  {
   "cell_type": "markdown",
   "id": "ff7d2841-9c7b-431e-b062-82859b2bb525",
   "metadata": {},
   "source": [
    "### Age of Structure"
   ]
  },
  {
   "cell_type": "code",
   "execution_count": 8,
   "id": "9e183970-5de3-4d85-a86c-6bdb41889a28",
   "metadata": {},
   "outputs": [
    {
     "data": {
      "text/plain": [
       "(1084, 25)"
      ]
     },
     "execution_count": 8,
     "metadata": {},
     "output_type": "execute_result"
    }
   ],
   "source": [
    "key = 'age_of_structure'\n",
    "alias = key\n",
    "original_file_path = exposures_path_head + r\"Table1/Data Describing Unsafe Conditions/Higher risk housing and infrastructure/Age of Structure/Age of Structure/ACSDT5Y2022.B25034-Data.csv\"\n",
    "centralized_file_dir = os.path.join(central_path_head, alias)\n",
    "\n",
    "# Update file_blocks entry\n",
    "file_blocks[key]['original_file_path'] = original_file_path\n",
    "file_blocks[key]['centralized_file_dir'] = centralized_file_dir\n",
    "\n",
    "# # Copy the file to a centralized directory\n",
    "# copy_file(original_file_path, centralized_file_dir)\n",
    "\n",
    "# Build path to centralized directory path\n",
    "file_name = os.path.basename(original_file_path)\n",
    "file = os.path.join(centralized_file_dir, file_name)\n",
    "\n",
    "cols_to_drop = file_blocks[key]['cols_to_drop']\n",
    "column_mapping_dict = file_blocks[key]['code_to_alias_column_mappings']\n",
    "\n",
    "alias_df = map_census_aliases(file, column_mapping_dict)\n",
    "\n",
    "# file_blocks['age_of_structure']['code_to_alias_column_mappings'] = column_mapping\n",
    "\n",
    "age_of_structure_df = pd.read_csv(file)\n",
    "age_of_structure_df.shape"
   ]
  },
  {
   "cell_type": "code",
   "execution_count": 9,
   "id": "c0fc23c5-e772-4696-8111-bcba1caa52f7",
   "metadata": {},
   "outputs": [],
   "source": [
    "# alias_df.head(2)"
   ]
  },
  {
   "cell_type": "code",
   "execution_count": 10,
   "id": "125aa6eb-75a6-42a5-9a32-06da7bce937e",
   "metadata": {},
   "outputs": [
    {
     "data": {
      "text/plain": [
       "(1083, 25)"
      ]
     },
     "execution_count": 10,
     "metadata": {},
     "output_type": "execute_result"
    }
   ],
   "source": [
    "alias_df.shape"
   ]
  },
  {
   "cell_type": "code",
   "execution_count": 11,
   "id": "9f2665f3-3371-4093-906b-98784989d2dd",
   "metadata": {},
   "outputs": [],
   "source": [
    "# list(file_blocks.items())[0]"
   ]
  },
  {
   "cell_type": "code",
   "execution_count": 12,
   "id": "e56530e1-951a-4338-b725-cde9fdb2ebdf",
   "metadata": {},
   "outputs": [],
   "source": [
    "# file_blocks['age_of_structure']['cols_to_drop']"
   ]
  },
  {
   "cell_type": "code",
   "execution_count": 13,
   "id": "29609ce3-5ba1-442e-91c5-5c9a9d40076c",
   "metadata": {},
   "outputs": [
    {
     "name": "stdout",
     "output_type": "stream",
     "text": [
      "\\Dropping 11 columns (5 pairs)\n"
     ]
    },
    {
     "data": {
      "text/plain": [
       "(1083, 14)"
      ]
     },
     "execution_count": 13,
     "metadata": {},
     "output_type": "execute_result"
    }
   ],
   "source": [
    "test = census_drop_cols(alias_df, cols_to_drop)\n",
    "test.shape"
   ]
  },
  {
   "cell_type": "code",
   "execution_count": 14,
   "id": "2206193a-0cfc-4f97-9aa6-c781fdafa278",
   "metadata": {},
   "outputs": [
    {
     "name": "stdout",
     "output_type": "stream",
     "text": [
      "Exported to /Users/andyyu/Desktop/Nextcloud/SCOVI Project/Metrics/All Exposures/census/cleaned-data/age_of_structure.csv\n"
     ]
    },
    {
     "data": {
      "text/plain": [
       "True"
      ]
     },
     "execution_count": 14,
     "metadata": {},
     "output_type": "execute_result"
    }
   ],
   "source": [
    "export_census_csv(test, cleaned_path_head, f\"{alias}.csv\", True)"
   ]
  },
  {
   "cell_type": "code",
   "execution_count": 15,
   "id": "5d1e218e-10d5-47e6-9dc3-f920e5fd86e4",
   "metadata": {
    "scrolled": true
   },
   "outputs": [
    {
     "data": {
      "text/html": [
       "<div>\n",
       "<style scoped>\n",
       "    .dataframe tbody tr th:only-of-type {\n",
       "        vertical-align: middle;\n",
       "    }\n",
       "\n",
       "    .dataframe tbody tr th {\n",
       "        vertical-align: top;\n",
       "    }\n",
       "\n",
       "    .dataframe thead th {\n",
       "        text-align: right;\n",
       "    }\n",
       "</style>\n",
       "<table border=\"1\" class=\"dataframe\">\n",
       "  <thead>\n",
       "    <tr style=\"text-align: right;\">\n",
       "      <th></th>\n",
       "      <th>GEO_ID</th>\n",
       "      <th>NAME</th>\n",
       "      <th>B25034_001E</th>\n",
       "      <th>B25034_001M</th>\n",
       "      <th>B25034_002E</th>\n",
       "      <th>B25034_002M</th>\n",
       "      <th>B25034_003E</th>\n",
       "      <th>B25034_003M</th>\n",
       "      <th>B25034_004E</th>\n",
       "      <th>B25034_004M</th>\n",
       "      <th>...</th>\n",
       "      <th>B25034_007M</th>\n",
       "      <th>B25034_008E</th>\n",
       "      <th>B25034_008M</th>\n",
       "      <th>B25034_009E</th>\n",
       "      <th>B25034_009M</th>\n",
       "      <th>B25034_010E</th>\n",
       "      <th>B25034_010M</th>\n",
       "      <th>B25034_011E</th>\n",
       "      <th>B25034_011M</th>\n",
       "      <th>Unnamed: 24</th>\n",
       "    </tr>\n",
       "  </thead>\n",
       "  <tbody>\n",
       "    <tr>\n",
       "      <th>0</th>\n",
       "      <td>Geography</td>\n",
       "      <td>Geographic Area Name</td>\n",
       "      <td>Estimate!!Total:</td>\n",
       "      <td>Margin of Error!!Total:</td>\n",
       "      <td>Estimate!!Total:!!Built 2020 or later</td>\n",
       "      <td>Margin of Error!!Total:!!Built 2020 or later</td>\n",
       "      <td>Estimate!!Total:!!Built 2010 to 2019</td>\n",
       "      <td>Margin of Error!!Total:!!Built 2010 to 2019</td>\n",
       "      <td>Estimate!!Total:!!Built 2000 to 2009</td>\n",
       "      <td>Margin of Error!!Total:!!Built 2000 to 2009</td>\n",
       "      <td>...</td>\n",
       "      <td>Margin of Error!!Total:!!Built 1970 to 1979</td>\n",
       "      <td>Estimate!!Total:!!Built 1960 to 1969</td>\n",
       "      <td>Margin of Error!!Total:!!Built 1960 to 1969</td>\n",
       "      <td>Estimate!!Total:!!Built 1950 to 1959</td>\n",
       "      <td>Margin of Error!!Total:!!Built 1950 to 1959</td>\n",
       "      <td>Estimate!!Total:!!Built 1940 to 1949</td>\n",
       "      <td>Margin of Error!!Total:!!Built 1940 to 1949</td>\n",
       "      <td>Estimate!!Total:!!Built 1939 or earlier</td>\n",
       "      <td>Margin of Error!!Total:!!Built 1939 or earlier</td>\n",
       "      <td>NaN</td>\n",
       "    </tr>\n",
       "    <tr>\n",
       "      <th>1</th>\n",
       "      <td>1500000US150010201001</td>\n",
       "      <td>Block Group 1; Census Tract 201; Hawaii County...</td>\n",
       "      <td>601</td>\n",
       "      <td>110</td>\n",
       "      <td>0</td>\n",
       "      <td>12</td>\n",
       "      <td>24</td>\n",
       "      <td>21</td>\n",
       "      <td>33</td>\n",
       "      <td>28</td>\n",
       "      <td>...</td>\n",
       "      <td>80</td>\n",
       "      <td>87</td>\n",
       "      <td>39</td>\n",
       "      <td>17</td>\n",
       "      <td>18</td>\n",
       "      <td>5</td>\n",
       "      <td>6</td>\n",
       "      <td>9</td>\n",
       "      <td>14</td>\n",
       "      <td>NaN</td>\n",
       "    </tr>\n",
       "    <tr>\n",
       "      <th>2</th>\n",
       "      <td>1500000US150010201002</td>\n",
       "      <td>Block Group 2; Census Tract 201; Hawaii County...</td>\n",
       "      <td>340</td>\n",
       "      <td>71</td>\n",
       "      <td>0</td>\n",
       "      <td>12</td>\n",
       "      <td>0</td>\n",
       "      <td>12</td>\n",
       "      <td>77</td>\n",
       "      <td>38</td>\n",
       "      <td>...</td>\n",
       "      <td>6</td>\n",
       "      <td>57</td>\n",
       "      <td>70</td>\n",
       "      <td>28</td>\n",
       "      <td>14</td>\n",
       "      <td>29</td>\n",
       "      <td>16</td>\n",
       "      <td>76</td>\n",
       "      <td>36</td>\n",
       "      <td>NaN</td>\n",
       "    </tr>\n",
       "    <tr>\n",
       "      <th>3</th>\n",
       "      <td>1500000US150010201003</td>\n",
       "      <td>Block Group 3; Census Tract 201; Hawaii County...</td>\n",
       "      <td>728</td>\n",
       "      <td>152</td>\n",
       "      <td>0</td>\n",
       "      <td>12</td>\n",
       "      <td>46</td>\n",
       "      <td>38</td>\n",
       "      <td>140</td>\n",
       "      <td>94</td>\n",
       "      <td>...</td>\n",
       "      <td>37</td>\n",
       "      <td>70</td>\n",
       "      <td>30</td>\n",
       "      <td>141</td>\n",
       "      <td>73</td>\n",
       "      <td>67</td>\n",
       "      <td>71</td>\n",
       "      <td>49</td>\n",
       "      <td>23</td>\n",
       "      <td>NaN</td>\n",
       "    </tr>\n",
       "    <tr>\n",
       "      <th>4</th>\n",
       "      <td>1500000US150010201004</td>\n",
       "      <td>Block Group 4; Census Tract 201; Hawaii County...</td>\n",
       "      <td>420</td>\n",
       "      <td>101</td>\n",
       "      <td>0</td>\n",
       "      <td>12</td>\n",
       "      <td>31</td>\n",
       "      <td>26</td>\n",
       "      <td>0</td>\n",
       "      <td>12</td>\n",
       "      <td>...</td>\n",
       "      <td>25</td>\n",
       "      <td>56</td>\n",
       "      <td>37</td>\n",
       "      <td>45</td>\n",
       "      <td>29</td>\n",
       "      <td>24</td>\n",
       "      <td>22</td>\n",
       "      <td>144</td>\n",
       "      <td>55</td>\n",
       "      <td>NaN</td>\n",
       "    </tr>\n",
       "  </tbody>\n",
       "</table>\n",
       "<p>5 rows × 25 columns</p>\n",
       "</div>"
      ],
      "text/plain": [
       "                  GEO_ID                                               NAME  \\\n",
       "0              Geography                               Geographic Area Name   \n",
       "1  1500000US150010201001  Block Group 1; Census Tract 201; Hawaii County...   \n",
       "2  1500000US150010201002  Block Group 2; Census Tract 201; Hawaii County...   \n",
       "3  1500000US150010201003  Block Group 3; Census Tract 201; Hawaii County...   \n",
       "4  1500000US150010201004  Block Group 4; Census Tract 201; Hawaii County...   \n",
       "\n",
       "        B25034_001E              B25034_001M  \\\n",
       "0  Estimate!!Total:  Margin of Error!!Total:   \n",
       "1               601                      110   \n",
       "2               340                       71   \n",
       "3               728                      152   \n",
       "4               420                      101   \n",
       "\n",
       "                             B25034_002E  \\\n",
       "0  Estimate!!Total:!!Built 2020 or later   \n",
       "1                                      0   \n",
       "2                                      0   \n",
       "3                                      0   \n",
       "4                                      0   \n",
       "\n",
       "                                    B25034_002M  \\\n",
       "0  Margin of Error!!Total:!!Built 2020 or later   \n",
       "1                                            12   \n",
       "2                                            12   \n",
       "3                                            12   \n",
       "4                                            12   \n",
       "\n",
       "                            B25034_003E  \\\n",
       "0  Estimate!!Total:!!Built 2010 to 2019   \n",
       "1                                    24   \n",
       "2                                     0   \n",
       "3                                    46   \n",
       "4                                    31   \n",
       "\n",
       "                                   B25034_003M  \\\n",
       "0  Margin of Error!!Total:!!Built 2010 to 2019   \n",
       "1                                           21   \n",
       "2                                           12   \n",
       "3                                           38   \n",
       "4                                           26   \n",
       "\n",
       "                            B25034_004E  \\\n",
       "0  Estimate!!Total:!!Built 2000 to 2009   \n",
       "1                                    33   \n",
       "2                                    77   \n",
       "3                                   140   \n",
       "4                                     0   \n",
       "\n",
       "                                   B25034_004M  ...  \\\n",
       "0  Margin of Error!!Total:!!Built 2000 to 2009  ...   \n",
       "1                                           28  ...   \n",
       "2                                           38  ...   \n",
       "3                                           94  ...   \n",
       "4                                           12  ...   \n",
       "\n",
       "                                   B25034_007M  \\\n",
       "0  Margin of Error!!Total:!!Built 1970 to 1979   \n",
       "1                                           80   \n",
       "2                                            6   \n",
       "3                                           37   \n",
       "4                                           25   \n",
       "\n",
       "                            B25034_008E  \\\n",
       "0  Estimate!!Total:!!Built 1960 to 1969   \n",
       "1                                    87   \n",
       "2                                    57   \n",
       "3                                    70   \n",
       "4                                    56   \n",
       "\n",
       "                                   B25034_008M  \\\n",
       "0  Margin of Error!!Total:!!Built 1960 to 1969   \n",
       "1                                           39   \n",
       "2                                           70   \n",
       "3                                           30   \n",
       "4                                           37   \n",
       "\n",
       "                            B25034_009E  \\\n",
       "0  Estimate!!Total:!!Built 1950 to 1959   \n",
       "1                                    17   \n",
       "2                                    28   \n",
       "3                                   141   \n",
       "4                                    45   \n",
       "\n",
       "                                   B25034_009M  \\\n",
       "0  Margin of Error!!Total:!!Built 1950 to 1959   \n",
       "1                                           18   \n",
       "2                                           14   \n",
       "3                                           73   \n",
       "4                                           29   \n",
       "\n",
       "                            B25034_010E  \\\n",
       "0  Estimate!!Total:!!Built 1940 to 1949   \n",
       "1                                     5   \n",
       "2                                    29   \n",
       "3                                    67   \n",
       "4                                    24   \n",
       "\n",
       "                                   B25034_010M  \\\n",
       "0  Margin of Error!!Total:!!Built 1940 to 1949   \n",
       "1                                            6   \n",
       "2                                           16   \n",
       "3                                           71   \n",
       "4                                           22   \n",
       "\n",
       "                               B25034_011E  \\\n",
       "0  Estimate!!Total:!!Built 1939 or earlier   \n",
       "1                                        9   \n",
       "2                                       76   \n",
       "3                                       49   \n",
       "4                                      144   \n",
       "\n",
       "                                      B25034_011M Unnamed: 24  \n",
       "0  Margin of Error!!Total:!!Built 1939 or earlier         NaN  \n",
       "1                                              14         NaN  \n",
       "2                                              36         NaN  \n",
       "3                                              23         NaN  \n",
       "4                                              55         NaN  \n",
       "\n",
       "[5 rows x 25 columns]"
      ]
     },
     "execution_count": 15,
     "metadata": {},
     "output_type": "execute_result"
    }
   ],
   "source": [
    "age_of_structure_df.head(5)"
   ]
  },
  {
   "cell_type": "markdown",
   "id": "52ad01ff-157e-45a5-8ec1-c719d26ff8f0",
   "metadata": {},
   "source": [
    "## No longer listed in JPL?"
   ]
  },
  {
   "cell_type": "markdown",
   "id": "0901d505-cff1-4c71-8585-9921c91a1fb0",
   "metadata": {},
   "source": [
    "### Aggregate income"
   ]
  },
  {
   "cell_type": "code",
   "execution_count": 16,
   "id": "e51616cc-c1a1-444d-9fd7-ada546a70649",
   "metadata": {},
   "outputs": [],
   "source": [
    "# key = 'aggregate_income_deficit_dollars_in_the_past_12_months_for_families_by_family_type'\n",
    "# alias = \"aggregate_income\"\n",
    "# original_file_path = exposures_path_head + r\"Table1/Data Describing Unsafe Conditions/Low income levels/aggregate_income/ACSDT5Y2022.B17011-Data.csv\"\n",
    "# centralized_file_dir = os.path.join(central_path_head, alias)\n",
    "\n",
    "# # Update file_blocks entry\n",
    "# file_blocks[key]['original_file_path'] = original_file_path\n",
    "# file_blocks[key]['centralized_file_dir'] = centralized_file_dir\n",
    "\n",
    "# # # Copy the file to a centralized directory\n",
    "# # copy_file(original_file_path, centralized_file_dir)\n",
    "\n",
    "# # Build path to centralized directory path\n",
    "# file_name = os.path.basename(original_file_path)\n",
    "# file = os.path.join(centralized_file_dir, file_name)\n",
    "\n",
    "# cols_to_drop = file_blocks[key]['cols_to_drop']\n",
    "# column_mapping_dict = file_blocks[key]['code_to_alias_column_mappings']\n",
    "\n",
    "# alias_df = map_census_aliases(file, column_mapping_dict)\n",
    "\n",
    "# aggregate_income_df = pd.read_csv(file)\n",
    "# aggregate_income_df.shape"
   ]
  },
  {
   "cell_type": "code",
   "execution_count": 17,
   "id": "afbf9141-7a75-4643-8571-19a79a8089c1",
   "metadata": {},
   "outputs": [],
   "source": [
    "# alias_df.shape"
   ]
  },
  {
   "cell_type": "code",
   "execution_count": 18,
   "id": "1d63494f-2b0e-42c4-aac4-edd17a6ade16",
   "metadata": {},
   "outputs": [],
   "source": [
    "# test = census_drop_cols(alias_df, cols_to_drop)\n",
    "# test.shape"
   ]
  },
  {
   "cell_type": "code",
   "execution_count": 19,
   "id": "76234a1a-47a4-4024-89fc-59901cc4f384",
   "metadata": {},
   "outputs": [],
   "source": [
    "# test.head(2)"
   ]
  },
  {
   "cell_type": "code",
   "execution_count": 20,
   "id": "9e2d6dd7-b2dc-45c4-8abb-53645e5fb67c",
   "metadata": {},
   "outputs": [],
   "source": [
    "# export_census_csv(test, cleaned_path_head, f\"{alias}.csv\", True)"
   ]
  },
  {
   "cell_type": "markdown",
   "id": "88918384-f55d-4819-b8ae-1a1b6b8d21a5",
   "metadata": {},
   "source": [
    "### Aggregate number of vehicles"
   ]
  },
  {
   "cell_type": "code",
   "execution_count": 21,
   "id": "5dad6619-2d73-442e-8887-bc1292535b7b",
   "metadata": {},
   "outputs": [
    {
     "data": {
      "text/plain": [
       "(1084, 9)"
      ]
     },
     "execution_count": 21,
     "metadata": {},
     "output_type": "execute_result"
    }
   ],
   "source": [
    "key = \"aggregate_number_of_vehicles_available_by_tenure\"\n",
    "alias = \"aggregate_vehicles\"\n",
    "original_file_path = exposures_path_head + r\"Table1/Data Describing Unsafe Conditions/Mobility constraints/ACSDT5Y2022.B25046-Data.csv\"\n",
    "centralized_file_dir = os.path.join(central_path_head, alias)\n",
    "\n",
    "# Update file_blocks entry\n",
    "file_blocks[key]['original_file_path'] = original_file_path\n",
    "file_blocks[key]['centralized_file_dir'] = centralized_file_dir\n",
    "\n",
    "# # Copy the file to a centralized directory\n",
    "# copy_file(original_file_path, centralized_file_dir)\n",
    "\n",
    "# Build path to centralized directory path\n",
    "file_name = os.path.basename(original_file_path)\n",
    "file = os.path.join(centralized_file_dir, file_name)\n",
    "\n",
    "cols_to_drop = file_blocks[key]['cols_to_drop']\n",
    "column_mapping_dict = file_blocks[key]['code_to_alias_column_mappings']\n",
    "\n",
    "alias_df = map_census_aliases(file, column_mapping_dict)\n",
    "\n",
    "aggregate_vehicles_df = pd.read_csv(file)\n",
    "aggregate_vehicles_df.shape"
   ]
  },
  {
   "cell_type": "code",
   "execution_count": 22,
   "id": "44dde72e-f5eb-4df9-b7a6-a34704b8e3eb",
   "metadata": {},
   "outputs": [
    {
     "data": {
      "text/plain": [
       "(1083, 9)"
      ]
     },
     "execution_count": 22,
     "metadata": {},
     "output_type": "execute_result"
    }
   ],
   "source": [
    "alias_df.shape"
   ]
  },
  {
   "cell_type": "code",
   "execution_count": 23,
   "id": "1b8d60ad-e1d4-4b20-8d8e-eedcbec583e0",
   "metadata": {},
   "outputs": [
    {
     "name": "stdout",
     "output_type": "stream",
     "text": [
      "\\Dropping 5 columns (2 pairs)\n"
     ]
    },
    {
     "data": {
      "text/plain": [
       "(1083, 4)"
      ]
     },
     "execution_count": 23,
     "metadata": {},
     "output_type": "execute_result"
    }
   ],
   "source": [
    "test = census_drop_cols(alias_df, cols_to_drop)\n",
    "test.shape"
   ]
  },
  {
   "cell_type": "code",
   "execution_count": 24,
   "id": "91ede732-b1bb-4877-85fe-09039146444b",
   "metadata": {},
   "outputs": [
    {
     "data": {
      "text/html": [
       "<div>\n",
       "<style scoped>\n",
       "    .dataframe tbody tr th:only-of-type {\n",
       "        vertical-align: middle;\n",
       "    }\n",
       "\n",
       "    .dataframe tbody tr th {\n",
       "        vertical-align: top;\n",
       "    }\n",
       "\n",
       "    .dataframe thead tr th {\n",
       "        text-align: left;\n",
       "    }\n",
       "</style>\n",
       "<table border=\"1\" class=\"dataframe\">\n",
       "  <thead>\n",
       "    <tr>\n",
       "      <th>Code</th>\n",
       "      <th>﻿\"GEO_ID\"</th>\n",
       "      <th>NAME</th>\n",
       "      <th>B25046_001E</th>\n",
       "      <th>B25046_001M</th>\n",
       "    </tr>\n",
       "    <tr>\n",
       "      <th>Alias</th>\n",
       "      <th>Geography</th>\n",
       "      <th>Geographic Area Name</th>\n",
       "      <th>Estimate!!Aggregate number of vehicles available:</th>\n",
       "      <th>Margin of Error!!Aggregate number of vehicles available:</th>\n",
       "    </tr>\n",
       "  </thead>\n",
       "  <tbody>\n",
       "    <tr>\n",
       "      <th>0</th>\n",
       "      <td>1500000US150010201001</td>\n",
       "      <td>Block Group 1; Census Tract 201; Hawaii County...</td>\n",
       "      <td>813</td>\n",
       "      <td>182</td>\n",
       "    </tr>\n",
       "    <tr>\n",
       "      <th>1</th>\n",
       "      <td>1500000US150010201002</td>\n",
       "      <td>Block Group 2; Census Tract 201; Hawaii County...</td>\n",
       "      <td>505</td>\n",
       "      <td>106</td>\n",
       "    </tr>\n",
       "  </tbody>\n",
       "</table>\n",
       "</div>"
      ],
      "text/plain": [
       "Code               ﻿\"GEO_ID\"  \\\n",
       "Alias              Geography   \n",
       "0      1500000US150010201001   \n",
       "1      1500000US150010201002   \n",
       "\n",
       "Code                                                NAME  \\\n",
       "Alias                               Geographic Area Name   \n",
       "0      Block Group 1; Census Tract 201; Hawaii County...   \n",
       "1      Block Group 2; Census Tract 201; Hawaii County...   \n",
       "\n",
       "Code                                        B25046_001E  \\\n",
       "Alias Estimate!!Aggregate number of vehicles available:   \n",
       "0                                                   813   \n",
       "1                                                   505   \n",
       "\n",
       "Code                                               B25046_001M  \n",
       "Alias Margin of Error!!Aggregate number of vehicles available:  \n",
       "0                                                    182        \n",
       "1                                                    106        "
      ]
     },
     "execution_count": 24,
     "metadata": {},
     "output_type": "execute_result"
    }
   ],
   "source": [
    "test.head(2)"
   ]
  },
  {
   "cell_type": "code",
   "execution_count": 25,
   "id": "eb7e1a68-02eb-4d0c-b00a-37a4ae72efa7",
   "metadata": {},
   "outputs": [
    {
     "name": "stdout",
     "output_type": "stream",
     "text": [
      "Exported to /Users/andyyu/Desktop/Nextcloud/SCOVI Project/Metrics/All Exposures/census/cleaned-data/aggregate_vehicles.csv\n"
     ]
    },
    {
     "data": {
      "text/plain": [
       "True"
      ]
     },
     "execution_count": 25,
     "metadata": {},
     "output_type": "execute_result"
    }
   ],
   "source": [
    "export_census_csv(test, cleaned_path_head, f\"{alias}.csv\", True)"
   ]
  },
  {
   "cell_type": "markdown",
   "id": "1f2f34bc-44a0-4238-8d52-f4228c798d8a",
   "metadata": {},
   "source": [
    "### Health insurance"
   ]
  },
  {
   "cell_type": "code",
   "execution_count": 26,
   "id": "0f9dab4b-b230-4215-b813-7810f9688368",
   "metadata": {},
   "outputs": [
    {
     "data": {
      "text/plain": [
       "(1084, 135)"
      ]
     },
     "execution_count": 26,
     "metadata": {},
     "output_type": "execute_result"
    }
   ],
   "source": [
    "key = \"health_insurance_coverage_by_age\"\n",
    "alias = \"health_insurance\"\n",
    "original_file_path = exposures_path_head + r\"Table1/Data Describing Unsafe Conditions/Lack of social security and insurance/Health insurance coverage by age/ACSDT5Y2022.B27010-Data.csv\"\n",
    "centralized_file_dir = os.path.join(central_path_head, alias)\n",
    "\n",
    "# Update file_blocks entry\n",
    "file_blocks[key]['original_file_path'] = original_file_path\n",
    "file_blocks[key]['centralized_file_dir'] = centralized_file_dir\n",
    "\n",
    "# # Copy the file to a centralized directory\n",
    "# copy_file(original_file_path, centralized_file_dir)\n",
    "\n",
    "# Build path to centralized directory path\n",
    "file_name = os.path.basename(original_file_path)\n",
    "file = os.path.join(centralized_file_dir, file_name)\n",
    "\n",
    "cols_to_drop = file_blocks[key]['cols_to_drop']\n",
    "column_mapping_dict = file_blocks[key]['code_to_alias_column_mappings']\n",
    "\n",
    "alias_df = map_census_aliases(file, column_mapping_dict)\n",
    "\n",
    "health_insurance_df = pd.read_csv(file)\n",
    "health_insurance_df.shape"
   ]
  },
  {
   "cell_type": "code",
   "execution_count": 27,
   "id": "8e9a59dd-6b0a-497e-b9a8-83158bdba564",
   "metadata": {},
   "outputs": [
    {
     "data": {
      "text/plain": [
       "(1083, 135)"
      ]
     },
     "execution_count": 27,
     "metadata": {},
     "output_type": "execute_result"
    }
   ],
   "source": [
    "alias_df.shape"
   ]
  },
  {
   "cell_type": "code",
   "execution_count": 28,
   "id": "e6eb207d-5d62-4120-9e8d-f677e229d977",
   "metadata": {},
   "outputs": [
    {
     "name": "stdout",
     "output_type": "stream",
     "text": [
      "\\Dropping 125 columns (62 pairs)\n"
     ]
    },
    {
     "data": {
      "text/plain": [
       "(1083, 10)"
      ]
     },
     "execution_count": 28,
     "metadata": {},
     "output_type": "execute_result"
    }
   ],
   "source": [
    "test = census_drop_cols(alias_df, cols_to_drop)\n",
    "test.shape"
   ]
  },
  {
   "cell_type": "code",
   "execution_count": 29,
   "id": "8a9cdb7d-29b0-4ec3-b985-1b1f6ea5f1e6",
   "metadata": {},
   "outputs": [
    {
     "data": {
      "text/html": [
       "<div>\n",
       "<style scoped>\n",
       "    .dataframe tbody tr th:only-of-type {\n",
       "        vertical-align: middle;\n",
       "    }\n",
       "\n",
       "    .dataframe tbody tr th {\n",
       "        vertical-align: top;\n",
       "    }\n",
       "\n",
       "    .dataframe thead tr th {\n",
       "        text-align: left;\n",
       "    }\n",
       "</style>\n",
       "<table border=\"1\" class=\"dataframe\">\n",
       "  <thead>\n",
       "    <tr>\n",
       "      <th>Code</th>\n",
       "      <th>﻿\"GEO_ID\"</th>\n",
       "      <th>NAME</th>\n",
       "      <th>B27010_017E</th>\n",
       "      <th>B27010_017M</th>\n",
       "      <th>B27010_033E</th>\n",
       "      <th>B27010_033M</th>\n",
       "      <th>B27010_050E</th>\n",
       "      <th>B27010_050M</th>\n",
       "      <th>B27010_066E</th>\n",
       "      <th>B27010_066M</th>\n",
       "    </tr>\n",
       "    <tr>\n",
       "      <th>Alias</th>\n",
       "      <th>Geography</th>\n",
       "      <th>Geographic Area Name</th>\n",
       "      <th>Estimate!!Total:!!Under 19 years:!!No health insurance coverage</th>\n",
       "      <th>Margin of Error!!Total:!!Under 19 years:!!No health insurance coverage</th>\n",
       "      <th>Estimate!!Total:!!19 to 34 years:!!No health insurance coverage</th>\n",
       "      <th>Margin of Error!!Total:!!19 to 34 years:!!No health insurance coverage</th>\n",
       "      <th>Estimate!!Total:!!35 to 64 years:!!No health insurance coverage</th>\n",
       "      <th>Margin of Error!!Total:!!35 to 64 years:!!No health insurance coverage</th>\n",
       "      <th>Estimate!!Total:!!65 years and over:!!No health insurance coverage</th>\n",
       "      <th>Margin of Error!!Total:!!65 years and over:!!No health insurance coverage</th>\n",
       "    </tr>\n",
       "  </thead>\n",
       "  <tbody>\n",
       "    <tr>\n",
       "      <th>0</th>\n",
       "      <td>1500000US150010201001</td>\n",
       "      <td>Block Group 1; Census Tract 201; Hawaii County...</td>\n",
       "      <td>0</td>\n",
       "      <td>12</td>\n",
       "      <td>42</td>\n",
       "      <td>49</td>\n",
       "      <td>40</td>\n",
       "      <td>35</td>\n",
       "      <td>0</td>\n",
       "      <td>12</td>\n",
       "    </tr>\n",
       "    <tr>\n",
       "      <th>1</th>\n",
       "      <td>1500000US150010201002</td>\n",
       "      <td>Block Group 2; Census Tract 201; Hawaii County...</td>\n",
       "      <td>7</td>\n",
       "      <td>10</td>\n",
       "      <td>42</td>\n",
       "      <td>57</td>\n",
       "      <td>7</td>\n",
       "      <td>8</td>\n",
       "      <td>7</td>\n",
       "      <td>9</td>\n",
       "    </tr>\n",
       "  </tbody>\n",
       "</table>\n",
       "</div>"
      ],
      "text/plain": [
       "Code               ﻿\"GEO_ID\"  \\\n",
       "Alias              Geography   \n",
       "0      1500000US150010201001   \n",
       "1      1500000US150010201002   \n",
       "\n",
       "Code                                                NAME  \\\n",
       "Alias                               Geographic Area Name   \n",
       "0      Block Group 1; Census Tract 201; Hawaii County...   \n",
       "1      Block Group 2; Census Tract 201; Hawaii County...   \n",
       "\n",
       "Code                                                      B27010_017E  \\\n",
       "Alias Estimate!!Total:!!Under 19 years:!!No health insurance coverage   \n",
       "0                                                      0                \n",
       "1                                                      7                \n",
       "\n",
       "Code                                                             B27010_017M  \\\n",
       "Alias Margin of Error!!Total:!!Under 19 years:!!No health insurance coverage   \n",
       "0                                                     12                       \n",
       "1                                                     10                       \n",
       "\n",
       "Code                                                      B27010_033E  \\\n",
       "Alias Estimate!!Total:!!19 to 34 years:!!No health insurance coverage   \n",
       "0                                                     42                \n",
       "1                                                     42                \n",
       "\n",
       "Code                                                             B27010_033M  \\\n",
       "Alias Margin of Error!!Total:!!19 to 34 years:!!No health insurance coverage   \n",
       "0                                                     49                       \n",
       "1                                                     57                       \n",
       "\n",
       "Code                                                      B27010_050E  \\\n",
       "Alias Estimate!!Total:!!35 to 64 years:!!No health insurance coverage   \n",
       "0                                                     40                \n",
       "1                                                      7                \n",
       "\n",
       "Code                                                             B27010_050M  \\\n",
       "Alias Margin of Error!!Total:!!35 to 64 years:!!No health insurance coverage   \n",
       "0                                                     35                       \n",
       "1                                                      8                       \n",
       "\n",
       "Code                                                         B27010_066E  \\\n",
       "Alias Estimate!!Total:!!65 years and over:!!No health insurance coverage   \n",
       "0                                                      0                   \n",
       "1                                                      7                   \n",
       "\n",
       "Code                                                                B27010_066M  \n",
       "Alias Margin of Error!!Total:!!65 years and over:!!No health insurance coverage  \n",
       "0                                                     12                         \n",
       "1                                                      9                         "
      ]
     },
     "execution_count": 29,
     "metadata": {},
     "output_type": "execute_result"
    }
   ],
   "source": [
    "test.head(2)"
   ]
  },
  {
   "cell_type": "code",
   "execution_count": 30,
   "id": "5d78f423-e3e3-41c2-b5a9-efab5004c978",
   "metadata": {},
   "outputs": [
    {
     "name": "stdout",
     "output_type": "stream",
     "text": [
      "Exported to /Users/andyyu/Desktop/Nextcloud/SCOVI Project/Metrics/All Exposures/census/cleaned-data/health_insurance.csv\n"
     ]
    },
    {
     "data": {
      "text/plain": [
       "True"
      ]
     },
     "execution_count": 30,
     "metadata": {},
     "output_type": "execute_result"
    }
   ],
   "source": [
    "export_census_csv(test, cleaned_path_head, f\"{alias}.csv\", True)"
   ]
  },
  {
   "cell_type": "markdown",
   "id": "f1828d73-da36-4018-9f3c-edf818df354f",
   "metadata": {},
   "source": [
    "# SKIP"
   ]
  },
  {
   "cell_type": "markdown",
   "id": "ac9285cd-5a84-4c65-894d-2031b5863ffc",
   "metadata": {},
   "source": [
    "### Household income 12 month"
   ]
  },
  {
   "cell_type": "code",
   "execution_count": 31,
   "id": "64c277e8-1ba9-476c-896d-47f96e45a823",
   "metadata": {},
   "outputs": [],
   "source": [
    "# key = \"household_income_in_the_past_12_month\"\n",
    "# alias = \"household_income\"\n",
    "# original_file_path = exposures_path_head + r\"Table2/Data Describing Unsafe Conditions/Low Income Levels/household_income/ACSDT5Y2022.B19001-Data.csv\"\n",
    "# centralized_file_dir = os.path.join(central_path_head, alias)\n",
    "\n",
    "# # Update file_blocks entry\n",
    "# file_blocks[key]['original_file_path'] = original_file_path\n",
    "# file_blocks[key]['centralized_file_dir'] = centralized_file_dir\n",
    "\n",
    "# # # Copy the file to a centralized directory\n",
    "# # copy_file(original_file_path, centralized_file_dir)\n",
    "\n",
    "# # Build path to centralized directory path\n",
    "# file_name = os.path.basename(original_file_path)\n",
    "# file = os.path.join(centralized_file_dir, file_name)\n",
    "\n",
    "# cols_to_drop = file_blocks[key]['cols_to_drop']\n",
    "# column_mapping_dict = file_blocks[key]['code_to_alias_column_mappings']\n",
    "\n",
    "# alias_df = map_census_aliases(file, column_mapping_dict)\n",
    "\n",
    "# household_income_df = pd.read_csv(file)\n",
    "# household_income_df.shape"
   ]
  },
  {
   "cell_type": "code",
   "execution_count": 32,
   "id": "1686f840-5706-4dad-a931-1d8a1d0beadc",
   "metadata": {},
   "outputs": [],
   "source": [
    "# alias_df.shape"
   ]
  },
  {
   "cell_type": "code",
   "execution_count": 33,
   "id": "11a14ac4-6c5d-4d5d-b9f3-28765c0f711b",
   "metadata": {},
   "outputs": [],
   "source": [
    "# test = census_drop_cols(alias_df, cols_to_drop)\n",
    "# test.shape"
   ]
  },
  {
   "cell_type": "code",
   "execution_count": 34,
   "id": "0690fdcc-c7b7-4850-9aec-6c79e3d7d95f",
   "metadata": {},
   "outputs": [],
   "source": [
    "# test.head(2)"
   ]
  },
  {
   "cell_type": "code",
   "execution_count": 35,
   "id": "34178de7-ee8f-4163-8372-43f59e0daa0b",
   "metadata": {},
   "outputs": [],
   "source": [
    "# export_census_csv(test, cleaned_path_head, f\"{alias}.csv\", True)"
   ]
  },
  {
   "cell_type": "markdown",
   "id": "2aa7b40d-0fef-4a0f-8dc9-ecf9c8bc5fe7",
   "metadata": {},
   "source": [
    "### Households with a computer"
   ]
  },
  {
   "cell_type": "code",
   "execution_count": 36,
   "id": "59901de9-4f2a-4b6f-b85e-f682c93f9ff7",
   "metadata": {},
   "outputs": [
    {
     "data": {
      "text/plain": [
       "(1084, 17)"
      ]
     },
     "execution_count": 36,
     "metadata": {},
     "output_type": "execute_result"
    }
   ],
   "source": [
    "key = \"households_with_a_computer\"\n",
    "alias = \"households_w_computer\"\n",
    "original_file_path = exposures_path_head + r\"Table1/Data Describing Unsafe Conditions/Language and communication barriers/households_w_computer/ACSDT5Y2022.B28010-Data.csv\"\n",
    "centralized_file_dir = os.path.join(central_path_head, alias)\n",
    "\n",
    "# Update file_blocks entry\n",
    "file_blocks[key]['original_file_path'] = original_file_path\n",
    "file_blocks[key]['centralized_file_dir'] = centralized_file_dir\n",
    "\n",
    "# # Copy the file to a centralized directory\n",
    "# copy_file(original_file_path, centralized_file_dir)\n",
    "\n",
    "# Build path to centralized directory path\n",
    "file_name = os.path.basename(original_file_path)\n",
    "file = os.path.join(centralized_file_dir, file_name)\n",
    "\n",
    "cols_to_drop = file_blocks[key]['cols_to_drop']\n",
    "column_mapping_dict = file_blocks[key]['code_to_alias_column_mappings']\n",
    "\n",
    "alias_df = map_census_aliases(file, column_mapping_dict)\n",
    "\n",
    "household_computer_df = pd.read_csv(file)\n",
    "household_computer_df.shape"
   ]
  },
  {
   "cell_type": "code",
   "execution_count": 37,
   "id": "9b142ab8-dc77-4caf-ac8f-e2af2cc492ca",
   "metadata": {},
   "outputs": [
    {
     "data": {
      "text/plain": [
       "(1083, 17)"
      ]
     },
     "execution_count": 37,
     "metadata": {},
     "output_type": "execute_result"
    }
   ],
   "source": [
    "alias_df.shape"
   ]
  },
  {
   "cell_type": "code",
   "execution_count": 38,
   "id": "9e12aee5-b9a5-4424-aa04-55360dcfbd2d",
   "metadata": {},
   "outputs": [
    {
     "name": "stdout",
     "output_type": "stream",
     "text": [
      "\\Dropping 13 columns (6 pairs)\n"
     ]
    },
    {
     "data": {
      "text/plain": [
       "(1083, 4)"
      ]
     },
     "execution_count": 38,
     "metadata": {},
     "output_type": "execute_result"
    }
   ],
   "source": [
    "test = census_drop_cols(alias_df, cols_to_drop)\n",
    "test.shape"
   ]
  },
  {
   "cell_type": "code",
   "execution_count": 39,
   "id": "3235bd23-8ffd-459a-b776-fa5336a01aaf",
   "metadata": {},
   "outputs": [
    {
     "data": {
      "text/html": [
       "<div>\n",
       "<style scoped>\n",
       "    .dataframe tbody tr th:only-of-type {\n",
       "        vertical-align: middle;\n",
       "    }\n",
       "\n",
       "    .dataframe tbody tr th {\n",
       "        vertical-align: top;\n",
       "    }\n",
       "\n",
       "    .dataframe thead tr th {\n",
       "        text-align: left;\n",
       "    }\n",
       "</style>\n",
       "<table border=\"1\" class=\"dataframe\">\n",
       "  <thead>\n",
       "    <tr>\n",
       "      <th>Code</th>\n",
       "      <th>﻿\"GEO_ID\"</th>\n",
       "      <th>NAME</th>\n",
       "      <th>B28010_007E</th>\n",
       "      <th>B28010_007M</th>\n",
       "    </tr>\n",
       "    <tr>\n",
       "      <th>Alias</th>\n",
       "      <th>Geography</th>\n",
       "      <th>Geographic Area Name</th>\n",
       "      <th>Estimate!!Total:!!No Computer</th>\n",
       "      <th>Margin of Error!!Total:!!No Computer</th>\n",
       "    </tr>\n",
       "  </thead>\n",
       "  <tbody>\n",
       "    <tr>\n",
       "      <th>0</th>\n",
       "      <td>1500000US150010201001</td>\n",
       "      <td>Block Group 1; Census Tract 201; Hawaii County...</td>\n",
       "      <td>116</td>\n",
       "      <td>49</td>\n",
       "    </tr>\n",
       "    <tr>\n",
       "      <th>1</th>\n",
       "      <td>1500000US150010201002</td>\n",
       "      <td>Block Group 2; Census Tract 201; Hawaii County...</td>\n",
       "      <td>30</td>\n",
       "      <td>37</td>\n",
       "    </tr>\n",
       "  </tbody>\n",
       "</table>\n",
       "</div>"
      ],
      "text/plain": [
       "Code               ﻿\"GEO_ID\"  \\\n",
       "Alias              Geography   \n",
       "0      1500000US150010201001   \n",
       "1      1500000US150010201002   \n",
       "\n",
       "Code                                                NAME  \\\n",
       "Alias                               Geographic Area Name   \n",
       "0      Block Group 1; Census Tract 201; Hawaii County...   \n",
       "1      Block Group 2; Census Tract 201; Hawaii County...   \n",
       "\n",
       "Code                    B28010_007E                          B28010_007M  \n",
       "Alias Estimate!!Total:!!No Computer Margin of Error!!Total:!!No Computer  \n",
       "0                               116                                   49  \n",
       "1                                30                                   37  "
      ]
     },
     "execution_count": 39,
     "metadata": {},
     "output_type": "execute_result"
    }
   ],
   "source": [
    "test.head(2)"
   ]
  },
  {
   "cell_type": "code",
   "execution_count": 40,
   "id": "4aa1d44b-85e5-4b53-9842-4ae2573d77ef",
   "metadata": {},
   "outputs": [
    {
     "name": "stdout",
     "output_type": "stream",
     "text": [
      "Exported to /Users/andyyu/Desktop/Nextcloud/SCOVI Project/Metrics/All Exposures/census/cleaned-data/households_w_computer.csv\n"
     ]
    },
    {
     "data": {
      "text/plain": [
       "True"
      ]
     },
     "execution_count": 40,
     "metadata": {},
     "output_type": "execute_result"
    }
   ],
   "source": [
    "export_census_csv(test, cleaned_path_head, f\"{alias}.csv\", True)"
   ]
  },
  {
   "cell_type": "markdown",
   "id": "d912d4c7-b390-4f54-9403-69fcfe8bc33a",
   "metadata": {},
   "source": [
    "### Income"
   ]
  },
  {
   "cell_type": "code",
   "execution_count": 41,
   "id": "7425e78d-20ae-4e26-8b60-6a8aad26dd15",
   "metadata": {},
   "outputs": [],
   "source": [
    "# Cannot find file"
   ]
  },
  {
   "cell_type": "markdown",
   "id": "b6f73208-0084-43d6-9323-6afd2d87375b",
   "metadata": {},
   "source": [
    "### Internet subscription"
   ]
  },
  {
   "cell_type": "code",
   "execution_count": 42,
   "id": "ff767aee-689f-4d6e-b3d8-c88a0ed43dd2",
   "metadata": {},
   "outputs": [
    {
     "data": {
      "text/plain": [
       "(1084, 19)"
      ]
     },
     "execution_count": 42,
     "metadata": {},
     "output_type": "execute_result"
    }
   ],
   "source": [
    "key = \"internet_subscription_in_household\"\n",
    "alias = \"internet_subscription\"\n",
    "original_file_path = exposures_path_head + r\"Table1/Data Describing Unsafe Conditions/Language and communication barriers/internet_subscription/ACSDT5Y2022.B28011-Data.csv\"\n",
    "centralized_file_dir = os.path.join(central_path_head, alias)\n",
    "\n",
    "# Update file_blocks entry\n",
    "file_blocks[key]['original_file_path'] = original_file_path\n",
    "file_blocks[key]['centralized_file_dir'] = centralized_file_dir\n",
    "\n",
    "# # Copy the file to a centralized directory\n",
    "# copy_file(original_file_path, centralized_file_dir)\n",
    "\n",
    "# Build path to centralized directory path\n",
    "file_name = os.path.basename(original_file_path)\n",
    "file = os.path.join(centralized_file_dir, file_name)\n",
    "\n",
    "cols_to_drop = file_blocks[key]['cols_to_drop']\n",
    "column_mapping_dict = file_blocks[key]['code_to_alias_column_mappings']\n",
    "\n",
    "alias_df = map_census_aliases(file, column_mapping_dict)\n",
    "\n",
    "internet_sub_df = pd.read_csv(file)\n",
    "internet_sub_df.shape"
   ]
  },
  {
   "cell_type": "code",
   "execution_count": 43,
   "id": "81d27153-48d9-482f-89d6-2cfd709d0e81",
   "metadata": {},
   "outputs": [
    {
     "data": {
      "text/plain": [
       "(1083, 19)"
      ]
     },
     "execution_count": 43,
     "metadata": {},
     "output_type": "execute_result"
    }
   ],
   "source": [
    "alias_df.shape"
   ]
  },
  {
   "cell_type": "code",
   "execution_count": 44,
   "id": "745042fb-e48e-4488-a134-f832b2d176ce",
   "metadata": {},
   "outputs": [
    {
     "name": "stdout",
     "output_type": "stream",
     "text": [
      "\\Dropping 15 columns (7 pairs)\n"
     ]
    },
    {
     "data": {
      "text/plain": [
       "(1083, 4)"
      ]
     },
     "execution_count": 44,
     "metadata": {},
     "output_type": "execute_result"
    }
   ],
   "source": [
    "test = census_drop_cols(alias_df, cols_to_drop)\n",
    "test.shape"
   ]
  },
  {
   "cell_type": "code",
   "execution_count": 45,
   "id": "fe955d42-a446-4927-b004-6153de7cee3a",
   "metadata": {},
   "outputs": [
    {
     "data": {
      "text/html": [
       "<div>\n",
       "<style scoped>\n",
       "    .dataframe tbody tr th:only-of-type {\n",
       "        vertical-align: middle;\n",
       "    }\n",
       "\n",
       "    .dataframe tbody tr th {\n",
       "        vertical-align: top;\n",
       "    }\n",
       "\n",
       "    .dataframe thead tr th {\n",
       "        text-align: left;\n",
       "    }\n",
       "</style>\n",
       "<table border=\"1\" class=\"dataframe\">\n",
       "  <thead>\n",
       "    <tr>\n",
       "      <th>Code</th>\n",
       "      <th>﻿\"GEO_ID\"</th>\n",
       "      <th>NAME</th>\n",
       "      <th>B28011_008E</th>\n",
       "      <th>B28011_008M</th>\n",
       "    </tr>\n",
       "    <tr>\n",
       "      <th>Alias</th>\n",
       "      <th>Geography</th>\n",
       "      <th>Geographic Area Name</th>\n",
       "      <th>Estimate!!Total:!!No Internet access</th>\n",
       "      <th>Margin of Error!!Total:!!No Internet access</th>\n",
       "    </tr>\n",
       "  </thead>\n",
       "  <tbody>\n",
       "    <tr>\n",
       "      <th>0</th>\n",
       "      <td>1500000US150010201001</td>\n",
       "      <td>Block Group 1; Census Tract 201; Hawaii County...</td>\n",
       "      <td>160</td>\n",
       "      <td>56</td>\n",
       "    </tr>\n",
       "    <tr>\n",
       "      <th>1</th>\n",
       "      <td>1500000US150010201002</td>\n",
       "      <td>Block Group 2; Census Tract 201; Hawaii County...</td>\n",
       "      <td>45</td>\n",
       "      <td>39</td>\n",
       "    </tr>\n",
       "  </tbody>\n",
       "</table>\n",
       "</div>"
      ],
      "text/plain": [
       "Code               ﻿\"GEO_ID\"  \\\n",
       "Alias              Geography   \n",
       "0      1500000US150010201001   \n",
       "1      1500000US150010201002   \n",
       "\n",
       "Code                                                NAME  \\\n",
       "Alias                               Geographic Area Name   \n",
       "0      Block Group 1; Census Tract 201; Hawaii County...   \n",
       "1      Block Group 2; Census Tract 201; Hawaii County...   \n",
       "\n",
       "Code                           B28011_008E  \\\n",
       "Alias Estimate!!Total:!!No Internet access   \n",
       "0                                      160   \n",
       "1                                       45   \n",
       "\n",
       "Code                                  B28011_008M  \n",
       "Alias Margin of Error!!Total:!!No Internet access  \n",
       "0                                              56  \n",
       "1                                              39  "
      ]
     },
     "execution_count": 45,
     "metadata": {},
     "output_type": "execute_result"
    }
   ],
   "source": [
    "test.head(2)"
   ]
  },
  {
   "cell_type": "code",
   "execution_count": 46,
   "id": "493f0b0c-2538-4199-bddd-d787123df227",
   "metadata": {},
   "outputs": [
    {
     "name": "stdout",
     "output_type": "stream",
     "text": [
      "Exported to /Users/andyyu/Desktop/Nextcloud/SCOVI Project/Metrics/All Exposures/census/cleaned-data/internet_subscription.csv\n"
     ]
    },
    {
     "data": {
      "text/plain": [
       "True"
      ]
     },
     "execution_count": 46,
     "metadata": {},
     "output_type": "execute_result"
    }
   ],
   "source": [
    "export_census_csv(test, cleaned_path_head, f\"{alias}.csv\", True)"
   ]
  },
  {
   "cell_type": "markdown",
   "id": "4d5e1a11-6e3f-4792-9258-0054be0d7eb3",
   "metadata": {},
   "source": [
    "### Limited English speaking"
   ]
  },
  {
   "cell_type": "code",
   "execution_count": 47,
   "id": "0c57e094-b729-4164-aee8-7d20f2409f44",
   "metadata": {},
   "outputs": [
    {
     "data": {
      "text/plain": [
       "(1084, 31)"
      ]
     },
     "execution_count": 47,
     "metadata": {},
     "output_type": "execute_result"
    }
   ],
   "source": [
    "key = \"limited_english_speaking_households\"\n",
    "alias = \"limited_english_speaking\"\n",
    "original_file_path = exposures_path_head + r\"Table1/Data Describing Unsafe Conditions/Language and communication barriers/limited_english_speaking/ACSDT5Y2022.C16002-Data.csv\"\n",
    "centralized_file_dir = os.path.join(central_path_head, alias)\n",
    "\n",
    "# Update file_blocks entry\n",
    "file_blocks[key]['original_file_path'] = original_file_path\n",
    "file_blocks[key]['centralized_file_dir'] = centralized_file_dir\n",
    "\n",
    "# # Copy the file to a centralized directory\n",
    "# copy_file(original_file_path, centralized_file_dir)\n",
    "\n",
    "# Build path to centralized directory path\n",
    "file_name = os.path.basename(original_file_path)\n",
    "file = os.path.join(centralized_file_dir, file_name)\n",
    "\n",
    "cols_to_drop = file_blocks[key]['cols_to_drop']\n",
    "column_mapping_dict = file_blocks[key]['code_to_alias_column_mappings']\n",
    "\n",
    "alias_df = map_census_aliases(file, column_mapping_dict)\n",
    "\n",
    "limited_eng_df = pd.read_csv(file)\n",
    "limited_eng_df.shape"
   ]
  },
  {
   "cell_type": "code",
   "execution_count": 48,
   "id": "40ad716d-7a3f-49e9-9a7c-11a586a3ebdb",
   "metadata": {},
   "outputs": [
    {
     "data": {
      "text/plain": [
       "(1083, 31)"
      ]
     },
     "execution_count": 48,
     "metadata": {},
     "output_type": "execute_result"
    }
   ],
   "source": [
    "alias_df.shape"
   ]
  },
  {
   "cell_type": "code",
   "execution_count": 49,
   "id": "c1119321-acb9-4989-9b08-9f78be16d955",
   "metadata": {},
   "outputs": [
    {
     "name": "stdout",
     "output_type": "stream",
     "text": [
      "\\Dropping 21 columns (10 pairs)\n"
     ]
    },
    {
     "data": {
      "text/plain": [
       "(1083, 10)"
      ]
     },
     "execution_count": 49,
     "metadata": {},
     "output_type": "execute_result"
    }
   ],
   "source": [
    "test = census_drop_cols(alias_df, cols_to_drop)\n",
    "test.shape"
   ]
  },
  {
   "cell_type": "code",
   "execution_count": 50,
   "id": "7a24a34d-beb1-482b-9b9b-6db14f09930c",
   "metadata": {},
   "outputs": [
    {
     "data": {
      "text/html": [
       "<div>\n",
       "<style scoped>\n",
       "    .dataframe tbody tr th:only-of-type {\n",
       "        vertical-align: middle;\n",
       "    }\n",
       "\n",
       "    .dataframe tbody tr th {\n",
       "        vertical-align: top;\n",
       "    }\n",
       "\n",
       "    .dataframe thead tr th {\n",
       "        text-align: left;\n",
       "    }\n",
       "</style>\n",
       "<table border=\"1\" class=\"dataframe\">\n",
       "  <thead>\n",
       "    <tr>\n",
       "      <th>Code</th>\n",
       "      <th>﻿\"GEO_ID\"</th>\n",
       "      <th>NAME</th>\n",
       "      <th>C16002_004E</th>\n",
       "      <th>C16002_004M</th>\n",
       "      <th>C16002_007E</th>\n",
       "      <th>C16002_007M</th>\n",
       "      <th>C16002_010E</th>\n",
       "      <th>C16002_010M</th>\n",
       "      <th>C16002_013E</th>\n",
       "      <th>C16002_013M</th>\n",
       "    </tr>\n",
       "    <tr>\n",
       "      <th>Alias</th>\n",
       "      <th>Geography</th>\n",
       "      <th>Geographic Area Name</th>\n",
       "      <th>Estimate!!Total:!!Spanish:!!Limited English speaking household</th>\n",
       "      <th>Margin of Error!!Total:!!Spanish:!!Limited English speaking household</th>\n",
       "      <th>Estimate!!Total:!!Other Indo-European languages:!!Limited English speaking household</th>\n",
       "      <th>Margin of Error!!Total:!!Other Indo-European languages:!!Limited English speaking household</th>\n",
       "      <th>Estimate!!Total:!!Asian and Pacific Island languages:!!Limited English speaking household</th>\n",
       "      <th>Margin of Error!!Total:!!Asian and Pacific Island languages:!!Limited English speaking household</th>\n",
       "      <th>Estimate!!Total:!!Other languages:!!Limited English speaking household</th>\n",
       "      <th>Margin of Error!!Total:!!Other languages:!!Limited English speaking household</th>\n",
       "    </tr>\n",
       "  </thead>\n",
       "  <tbody>\n",
       "    <tr>\n",
       "      <th>0</th>\n",
       "      <td>1500000US150010201001</td>\n",
       "      <td>Block Group 1; Census Tract 201; Hawaii County...</td>\n",
       "      <td>0</td>\n",
       "      <td>12</td>\n",
       "      <td>0</td>\n",
       "      <td>12</td>\n",
       "      <td>53</td>\n",
       "      <td>36</td>\n",
       "      <td>0</td>\n",
       "      <td>12</td>\n",
       "    </tr>\n",
       "    <tr>\n",
       "      <th>1</th>\n",
       "      <td>1500000US150010201002</td>\n",
       "      <td>Block Group 2; Census Tract 201; Hawaii County...</td>\n",
       "      <td>0</td>\n",
       "      <td>12</td>\n",
       "      <td>0</td>\n",
       "      <td>12</td>\n",
       "      <td>4</td>\n",
       "      <td>5</td>\n",
       "      <td>0</td>\n",
       "      <td>12</td>\n",
       "    </tr>\n",
       "  </tbody>\n",
       "</table>\n",
       "</div>"
      ],
      "text/plain": [
       "Code               ﻿\"GEO_ID\"  \\\n",
       "Alias              Geography   \n",
       "0      1500000US150010201001   \n",
       "1      1500000US150010201002   \n",
       "\n",
       "Code                                                NAME  \\\n",
       "Alias                               Geographic Area Name   \n",
       "0      Block Group 1; Census Tract 201; Hawaii County...   \n",
       "1      Block Group 2; Census Tract 201; Hawaii County...   \n",
       "\n",
       "Code                                                     C16002_004E  \\\n",
       "Alias Estimate!!Total:!!Spanish:!!Limited English speaking household   \n",
       "0                                                      0               \n",
       "1                                                      0               \n",
       "\n",
       "Code                                                            C16002_004M  \\\n",
       "Alias Margin of Error!!Total:!!Spanish:!!Limited English speaking household   \n",
       "0                                                     12                      \n",
       "1                                                     12                      \n",
       "\n",
       "Code                                                                           C16002_007E  \\\n",
       "Alias Estimate!!Total:!!Other Indo-European languages:!!Limited English speaking household   \n",
       "0                                                      0                                     \n",
       "1                                                      0                                     \n",
       "\n",
       "Code                                                                                  C16002_007M  \\\n",
       "Alias Margin of Error!!Total:!!Other Indo-European languages:!!Limited English speaking household   \n",
       "0                                                     12                                            \n",
       "1                                                     12                                            \n",
       "\n",
       "Code                                                                                C16002_010E  \\\n",
       "Alias Estimate!!Total:!!Asian and Pacific Island languages:!!Limited English speaking household   \n",
       "0                                                     53                                          \n",
       "1                                                      4                                          \n",
       "\n",
       "Code                                                                                       C16002_010M  \\\n",
       "Alias Margin of Error!!Total:!!Asian and Pacific Island languages:!!Limited English speaking household   \n",
       "0                                                     36                                                 \n",
       "1                                                      5                                                 \n",
       "\n",
       "Code                                                             C16002_013E  \\\n",
       "Alias Estimate!!Total:!!Other languages:!!Limited English speaking household   \n",
       "0                                                      0                       \n",
       "1                                                      0                       \n",
       "\n",
       "Code                                                                    C16002_013M  \n",
       "Alias Margin of Error!!Total:!!Other languages:!!Limited English speaking household  \n",
       "0                                                     12                             \n",
       "1                                                     12                             "
      ]
     },
     "execution_count": 50,
     "metadata": {},
     "output_type": "execute_result"
    }
   ],
   "source": [
    "test.head(2)"
   ]
  },
  {
   "cell_type": "code",
   "execution_count": 51,
   "id": "a9690df7-af1c-46ba-bc31-b1ce839ace56",
   "metadata": {},
   "outputs": [
    {
     "name": "stdout",
     "output_type": "stream",
     "text": [
      "Exported to /Users/andyyu/Desktop/Nextcloud/SCOVI Project/Metrics/All Exposures/census/cleaned-data/limited_english_speaking.csv\n"
     ]
    },
    {
     "data": {
      "text/plain": [
       "True"
      ]
     },
     "execution_count": 51,
     "metadata": {},
     "output_type": "execute_result"
    }
   ],
   "source": [
    "export_census_csv(test, cleaned_path_head, f\"{alias}.csv\", True)"
   ]
  },
  {
   "cell_type": "markdown",
   "id": "b858ac1b-ffc7-410a-9236-f1348b2bcd15",
   "metadata": {},
   "source": [
    "### Living Arrangements"
   ]
  },
  {
   "cell_type": "code",
   "execution_count": 52,
   "id": "98f3af7f-27cb-489a-b767-1866c243134f",
   "metadata": {},
   "outputs": [
    {
     "data": {
      "text/plain": [
       "(1084, 55)"
      ]
     },
     "execution_count": 52,
     "metadata": {},
     "output_type": "execute_result"
    }
   ],
   "source": [
    "key = \"living_arragements_including_living_alone_by_sex_and_relationship\"\n",
    "alias = \"living_arrangements\"\n",
    "original_file_path = exposures_path_head + r\"Table1/Data Describing Unsafe Conditions/Historical an other disparities_race or origin_and_gender/living_arrangements/ACSDT5Y2022.B09019-Data.csv\"\n",
    "centralized_file_dir = os.path.join(central_path_head, alias)\n",
    "\n",
    "# Update file_blocks entry\n",
    "file_blocks[key]['original_file_path'] = original_file_path\n",
    "file_blocks[key]['centralized_file_dir'] = centralized_file_dir\n",
    "\n",
    "# # Copy the file to a centralized directory\n",
    "# copy_file(original_file_path, centralized_file_dir)\n",
    "\n",
    "# Build path to centralized directory path\n",
    "file_name = os.path.basename(original_file_path)\n",
    "file = os.path.join(centralized_file_dir, file_name)\n",
    "\n",
    "cols_to_drop = file_blocks[key]['cols_to_drop']\n",
    "column_mapping_dict = file_blocks[key]['code_to_alias_column_mappings']\n",
    "\n",
    "alias_df = map_census_aliases(file, column_mapping_dict)\n",
    "\n",
    "living_arrangements_df = pd.read_csv(file)\n",
    "living_arrangements_df.shape"
   ]
  },
  {
   "cell_type": "code",
   "execution_count": 53,
   "id": "794910d5-0561-4d76-855f-ed0ea8686c5c",
   "metadata": {},
   "outputs": [
    {
     "data": {
      "text/plain": [
       "(1083, 55)"
      ]
     },
     "execution_count": 53,
     "metadata": {},
     "output_type": "execute_result"
    }
   ],
   "source": [
    "alias_df.shape"
   ]
  },
  {
   "cell_type": "code",
   "execution_count": 54,
   "id": "1b30d575-83ba-41d5-bfaf-63d54556dbc2",
   "metadata": {},
   "outputs": [
    {
     "name": "stdout",
     "output_type": "stream",
     "text": [
      "\\Dropping 49 columns (24 pairs)\n"
     ]
    },
    {
     "data": {
      "text/plain": [
       "(1083, 6)"
      ]
     },
     "execution_count": 54,
     "metadata": {},
     "output_type": "execute_result"
    }
   ],
   "source": [
    "test = census_drop_cols(alias_df, cols_to_drop)\n",
    "test.shape"
   ]
  },
  {
   "cell_type": "code",
   "execution_count": 55,
   "id": "e01ddc18-ec00-42df-ab7f-ca691ab9a6fc",
   "metadata": {},
   "outputs": [
    {
     "data": {
      "text/html": [
       "<div>\n",
       "<style scoped>\n",
       "    .dataframe tbody tr th:only-of-type {\n",
       "        vertical-align: middle;\n",
       "    }\n",
       "\n",
       "    .dataframe tbody tr th {\n",
       "        vertical-align: top;\n",
       "    }\n",
       "\n",
       "    .dataframe thead tr th {\n",
       "        text-align: left;\n",
       "    }\n",
       "</style>\n",
       "<table border=\"1\" class=\"dataframe\">\n",
       "  <thead>\n",
       "    <tr>\n",
       "      <th>Code</th>\n",
       "      <th>﻿\"GEO_ID\"</th>\n",
       "      <th>NAME</th>\n",
       "      <th>B09019_005E</th>\n",
       "      <th>B09019_005M</th>\n",
       "      <th>B09019_008E</th>\n",
       "      <th>B09019_008M</th>\n",
       "    </tr>\n",
       "    <tr>\n",
       "      <th>Alias</th>\n",
       "      <th>Geography</th>\n",
       "      <th>Geographic Area Name</th>\n",
       "      <th>Estimate!!Total:!!In households:!!Householder:!!Male:!!Living alone</th>\n",
       "      <th>Margin of Error!!Total:!!In households:!!Householder:!!Male:!!Living alone</th>\n",
       "      <th>Estimate!!Total:!!In households:!!Householder:!!Female:!!Living alone</th>\n",
       "      <th>Margin of Error!!Total:!!In households:!!Householder:!!Female:!!Living alone</th>\n",
       "    </tr>\n",
       "  </thead>\n",
       "  <tbody>\n",
       "    <tr>\n",
       "      <th>0</th>\n",
       "      <td>1500000US150010201001</td>\n",
       "      <td>Block Group 1; Census Tract 201; Hawaii County...</td>\n",
       "      <td>79</td>\n",
       "      <td>36</td>\n",
       "      <td>49</td>\n",
       "      <td>30</td>\n",
       "    </tr>\n",
       "    <tr>\n",
       "      <th>1</th>\n",
       "      <td>1500000US150010201002</td>\n",
       "      <td>Block Group 2; Census Tract 201; Hawaii County...</td>\n",
       "      <td>31</td>\n",
       "      <td>18</td>\n",
       "      <td>46</td>\n",
       "      <td>40</td>\n",
       "    </tr>\n",
       "  </tbody>\n",
       "</table>\n",
       "</div>"
      ],
      "text/plain": [
       "Code               ﻿\"GEO_ID\"  \\\n",
       "Alias              Geography   \n",
       "0      1500000US150010201001   \n",
       "1      1500000US150010201002   \n",
       "\n",
       "Code                                                NAME  \\\n",
       "Alias                               Geographic Area Name   \n",
       "0      Block Group 1; Census Tract 201; Hawaii County...   \n",
       "1      Block Group 2; Census Tract 201; Hawaii County...   \n",
       "\n",
       "Code                                                          B09019_005E  \\\n",
       "Alias Estimate!!Total:!!In households:!!Householder:!!Male:!!Living alone   \n",
       "0                                                     79                    \n",
       "1                                                     31                    \n",
       "\n",
       "Code                                                                 B09019_005M  \\\n",
       "Alias Margin of Error!!Total:!!In households:!!Householder:!!Male:!!Living alone   \n",
       "0                                                     36                           \n",
       "1                                                     18                           \n",
       "\n",
       "Code                                                            B09019_008E  \\\n",
       "Alias Estimate!!Total:!!In households:!!Householder:!!Female:!!Living alone   \n",
       "0                                                     49                      \n",
       "1                                                     46                      \n",
       "\n",
       "Code                                                                   B09019_008M  \n",
       "Alias Margin of Error!!Total:!!In households:!!Householder:!!Female:!!Living alone  \n",
       "0                                                     30                            \n",
       "1                                                     40                            "
      ]
     },
     "execution_count": 55,
     "metadata": {},
     "output_type": "execute_result"
    }
   ],
   "source": [
    "test.head(2)"
   ]
  },
  {
   "cell_type": "code",
   "execution_count": 56,
   "id": "59532176-2636-47d3-9afc-8be76930c64c",
   "metadata": {},
   "outputs": [
    {
     "name": "stdout",
     "output_type": "stream",
     "text": [
      "Exported to /Users/andyyu/Desktop/Nextcloud/SCOVI Project/Metrics/All Exposures/census/cleaned-data/living_arrangements.csv\n"
     ]
    },
    {
     "data": {
      "text/plain": [
       "True"
      ]
     },
     "execution_count": 56,
     "metadata": {},
     "output_type": "execute_result"
    }
   ],
   "source": [
    "export_census_csv(test, cleaned_path_head, f\"{alias}.csv\", True)"
   ]
  },
  {
   "cell_type": "markdown",
   "id": "50fe8d3b-6910-447c-afdd-b48ad5cdfeb0",
   "metadata": {},
   "source": [
    "# SKIP"
   ]
  },
  {
   "cell_type": "markdown",
   "id": "c753f479-7329-427d-a57c-b83a3b710ddc",
   "metadata": {},
   "source": [
    "### Persons in poverty"
   ]
  },
  {
   "cell_type": "code",
   "execution_count": 57,
   "id": "53da5497-7224-4319-8f1b-b6fe47f8bd63",
   "metadata": {},
   "outputs": [],
   "source": [
    "# key = \"persons_in_poverty\"\n",
    "# alias = key\n",
    "# original_file_path = exposures_path_head + r\"Table2/Data Describing Unsafe Conditions/Low Income Levels/persons_in_poverty/ACSDT5Y2022.C17002-Data.csv\"\n",
    "# centralized_file_dir = os.path.join(central_path_head, alias)\n",
    "\n",
    "# # Update file_blocks entry\n",
    "# file_blocks[key]['original_file_path'] = original_file_path\n",
    "# file_blocks[key]['centralized_file_dir'] = centralized_file_dir\n",
    "\n",
    "# # # Copy the file to a centralized directory\n",
    "# # copy_file(original_file_path, centralized_file_dir)\n",
    "\n",
    "# # Build path to centralized directory path\n",
    "# file_name = os.path.basename(original_file_path)\n",
    "# file = os.path.join(centralized_file_dir, file_name)\n",
    "\n",
    "# cols_to_drop = file_blocks[key]['cols_to_drop']\n",
    "# column_mapping_dict = file_blocks[key]['code_to_alias_column_mappings']\n",
    "\n",
    "# alias_df = map_census_aliases(file, column_mapping_dict)\n",
    "\n",
    "# persons_in_poverty_df = pd.read_csv(file)\n",
    "# persons_in_poverty_df.shape"
   ]
  },
  {
   "cell_type": "code",
   "execution_count": 58,
   "id": "e15f8feb-1fa8-43fa-aa52-24fcaf700ff6",
   "metadata": {},
   "outputs": [],
   "source": [
    "# alias_df.shape"
   ]
  },
  {
   "cell_type": "code",
   "execution_count": 59,
   "id": "4305cabc-393a-4f74-b207-de83a78b76f0",
   "metadata": {},
   "outputs": [],
   "source": [
    "# test = census_drop_cols(alias_df, cols_to_drop)\n",
    "# test.shape"
   ]
  },
  {
   "cell_type": "code",
   "execution_count": 60,
   "id": "1ad0e0af-50c6-48ba-a8c7-905c840831db",
   "metadata": {},
   "outputs": [],
   "source": [
    "# test.head(2)"
   ]
  },
  {
   "cell_type": "code",
   "execution_count": 61,
   "id": "ccb4a2ee-8de8-4d88-91af-f7158b3e0f0f",
   "metadata": {},
   "outputs": [],
   "source": [
    "# export_census_csv(test, cleaned_path_head, f\"{alias}.csv\", True)"
   ]
  },
  {
   "cell_type": "markdown",
   "id": "64a16d8e-07cc-4113-b563-003a485785ee",
   "metadata": {},
   "source": [
    "### Persons under 5 & 65"
   ]
  },
  {
   "cell_type": "code",
   "execution_count": 62,
   "id": "71406278-9d3f-4d9e-a68a-286bc2e7dbe5",
   "metadata": {},
   "outputs": [
    {
     "data": {
      "text/plain": [
       "(1084, 101)"
      ]
     },
     "execution_count": 62,
     "metadata": {},
     "output_type": "execute_result"
    }
   ],
   "source": [
    "key = \"persons_under_5_65_years_table\"\n",
    "alias = \"person_under_5_65\"\n",
    "original_file_path = \"All Exposures/Table2/Data Describing Unsafe Conditions/Special Group at Risk/person_under_5_65/ACSDT5Y2022.B01001-Data.csv\"\n",
    "centralized_file_dir = os.path.join(central_path_head, alias)\n",
    "\n",
    "# Update file_blocks entry\n",
    "file_blocks[key]['original_file_path'] = original_file_path\n",
    "file_blocks[key]['centralized_file_dir'] = centralized_file_dir\n",
    "\n",
    "# # Copy the file to a centralized directory\n",
    "# copy_file(original_file_path, centralized_file_dir)\n",
    "\n",
    "# Build path to centralized directory path\n",
    "file_name = os.path.basename(original_file_path)\n",
    "file = os.path.join(centralized_file_dir, file_name)\n",
    "\n",
    "cols_to_drop = file_blocks[key]['cols_to_drop']\n",
    "column_mapping_dict = file_blocks[key]['code_to_alias_column_mappings']\n",
    "\n",
    "alias_df = map_census_aliases(file, column_mapping_dict)\n",
    "\n",
    "persons_under_5_65_df = pd.read_csv(file)\n",
    "persons_under_5_65_df.shape"
   ]
  },
  {
   "cell_type": "code",
   "execution_count": 63,
   "id": "39e38251-71c6-4d6c-b2cf-092292fb2051",
   "metadata": {},
   "outputs": [
    {
     "data": {
      "text/plain": [
       "(1083, 101)"
      ]
     },
     "execution_count": 63,
     "metadata": {},
     "output_type": "execute_result"
    }
   ],
   "source": [
    "alias_df.shape"
   ]
  },
  {
   "cell_type": "code",
   "execution_count": 64,
   "id": "bd15df40-fbfe-4c6d-bda6-31fe93e7db55",
   "metadata": {},
   "outputs": [
    {
     "name": "stdout",
     "output_type": "stream",
     "text": [
      "\\Dropping 59 columns (29 pairs)\n"
     ]
    },
    {
     "data": {
      "text/plain": [
       "(1083, 42)"
      ]
     },
     "execution_count": 64,
     "metadata": {},
     "output_type": "execute_result"
    }
   ],
   "source": [
    "test = census_drop_cols(alias_df, cols_to_drop)\n",
    "test.shape"
   ]
  },
  {
   "cell_type": "code",
   "execution_count": 65,
   "id": "3772a875-8d14-4a37-a683-bc73a99f6e9e",
   "metadata": {},
   "outputs": [
    {
     "data": {
      "text/html": [
       "<div>\n",
       "<style scoped>\n",
       "    .dataframe tbody tr th:only-of-type {\n",
       "        vertical-align: middle;\n",
       "    }\n",
       "\n",
       "    .dataframe tbody tr th {\n",
       "        vertical-align: top;\n",
       "    }\n",
       "\n",
       "    .dataframe thead tr th {\n",
       "        text-align: left;\n",
       "    }\n",
       "</style>\n",
       "<table border=\"1\" class=\"dataframe\">\n",
       "  <thead>\n",
       "    <tr>\n",
       "      <th>Code</th>\n",
       "      <th>﻿\"GEO_ID\"</th>\n",
       "      <th>NAME</th>\n",
       "      <th>B01001_002E</th>\n",
       "      <th>B01001_002M</th>\n",
       "      <th>B01001_003E</th>\n",
       "      <th>B01001_003M</th>\n",
       "      <th>B01001_004E</th>\n",
       "      <th>B01001_004M</th>\n",
       "      <th>B01001_005E</th>\n",
       "      <th>B01001_005M</th>\n",
       "      <th>...</th>\n",
       "      <th>B01001_045E</th>\n",
       "      <th>B01001_045M</th>\n",
       "      <th>B01001_046E</th>\n",
       "      <th>B01001_046M</th>\n",
       "      <th>B01001_047E</th>\n",
       "      <th>B01001_047M</th>\n",
       "      <th>B01001_048E</th>\n",
       "      <th>B01001_048M</th>\n",
       "      <th>B01001_049E</th>\n",
       "      <th>B01001_049M</th>\n",
       "    </tr>\n",
       "    <tr>\n",
       "      <th>Alias</th>\n",
       "      <th>Geography</th>\n",
       "      <th>Geographic Area Name</th>\n",
       "      <th>Estimate!!Total:!!Male:</th>\n",
       "      <th>Margin of Error!!Total:!!Male:</th>\n",
       "      <th>Estimate!!Total:!!Male:!!Under 5 years</th>\n",
       "      <th>Margin of Error!!Total:!!Male:!!Under 5 years</th>\n",
       "      <th>Estimate!!Total:!!Male:!!5 to 9 years</th>\n",
       "      <th>Margin of Error!!Total:!!Male:!!5 to 9 years</th>\n",
       "      <th>Estimate!!Total:!!Male:!!10 to 14 years</th>\n",
       "      <th>Margin of Error!!Total:!!Male:!!10 to 14 years</th>\n",
       "      <th>...</th>\n",
       "      <th>Estimate!!Total:!!Female:!!67 to 69 years</th>\n",
       "      <th>Margin of Error!!Total:!!Female:!!67 to 69 years</th>\n",
       "      <th>Estimate!!Total:!!Female:!!70 to 74 years</th>\n",
       "      <th>Margin of Error!!Total:!!Female:!!70 to 74 years</th>\n",
       "      <th>Estimate!!Total:!!Female:!!75 to 79 years</th>\n",
       "      <th>Margin of Error!!Total:!!Female:!!75 to 79 years</th>\n",
       "      <th>Estimate!!Total:!!Female:!!80 to 84 years</th>\n",
       "      <th>Margin of Error!!Total:!!Female:!!80 to 84 years</th>\n",
       "      <th>Estimate!!Total:!!Female:!!85 years and over</th>\n",
       "      <th>Margin of Error!!Total:!!Female:!!85 years and over</th>\n",
       "    </tr>\n",
       "  </thead>\n",
       "  <tbody>\n",
       "    <tr>\n",
       "      <th>0</th>\n",
       "      <td>1500000US150010201001</td>\n",
       "      <td>Block Group 1; Census Tract 201; Hawaii County...</td>\n",
       "      <td>766</td>\n",
       "      <td>193</td>\n",
       "      <td>37</td>\n",
       "      <td>46</td>\n",
       "      <td>39</td>\n",
       "      <td>36</td>\n",
       "      <td>76</td>\n",
       "      <td>47</td>\n",
       "      <td>...</td>\n",
       "      <td>0</td>\n",
       "      <td>12</td>\n",
       "      <td>44</td>\n",
       "      <td>33</td>\n",
       "      <td>54</td>\n",
       "      <td>40</td>\n",
       "      <td>8</td>\n",
       "      <td>11</td>\n",
       "      <td>21</td>\n",
       "      <td>22</td>\n",
       "    </tr>\n",
       "    <tr>\n",
       "      <th>1</th>\n",
       "      <td>1500000US150010201002</td>\n",
       "      <td>Block Group 2; Census Tract 201; Hawaii County...</td>\n",
       "      <td>301</td>\n",
       "      <td>88</td>\n",
       "      <td>9</td>\n",
       "      <td>8</td>\n",
       "      <td>9</td>\n",
       "      <td>8</td>\n",
       "      <td>26</td>\n",
       "      <td>16</td>\n",
       "      <td>...</td>\n",
       "      <td>9</td>\n",
       "      <td>9</td>\n",
       "      <td>8</td>\n",
       "      <td>10</td>\n",
       "      <td>5</td>\n",
       "      <td>6</td>\n",
       "      <td>5</td>\n",
       "      <td>6</td>\n",
       "      <td>29</td>\n",
       "      <td>37</td>\n",
       "    </tr>\n",
       "  </tbody>\n",
       "</table>\n",
       "<p>2 rows × 42 columns</p>\n",
       "</div>"
      ],
      "text/plain": [
       "Code               ﻿\"GEO_ID\"  \\\n",
       "Alias              Geography   \n",
       "0      1500000US150010201001   \n",
       "1      1500000US150010201002   \n",
       "\n",
       "Code                                                NAME  \\\n",
       "Alias                               Geographic Area Name   \n",
       "0      Block Group 1; Census Tract 201; Hawaii County...   \n",
       "1      Block Group 2; Census Tract 201; Hawaii County...   \n",
       "\n",
       "Code              B01001_002E                    B01001_002M  \\\n",
       "Alias Estimate!!Total:!!Male: Margin of Error!!Total:!!Male:   \n",
       "0                         766                            193   \n",
       "1                         301                             88   \n",
       "\n",
       "Code                             B01001_003E  \\\n",
       "Alias Estimate!!Total:!!Male:!!Under 5 years   \n",
       "0                                         37   \n",
       "1                                          9   \n",
       "\n",
       "Code                                    B01001_003M  \\\n",
       "Alias Margin of Error!!Total:!!Male:!!Under 5 years   \n",
       "0                                                46   \n",
       "1                                                 8   \n",
       "\n",
       "Code                            B01001_004E  \\\n",
       "Alias Estimate!!Total:!!Male:!!5 to 9 years   \n",
       "0                                        39   \n",
       "1                                         9   \n",
       "\n",
       "Code                                   B01001_004M  \\\n",
       "Alias Margin of Error!!Total:!!Male:!!5 to 9 years   \n",
       "0                                               36   \n",
       "1                                                8   \n",
       "\n",
       "Code                              B01001_005E  \\\n",
       "Alias Estimate!!Total:!!Male:!!10 to 14 years   \n",
       "0                                          76   \n",
       "1                                          26   \n",
       "\n",
       "Code                                     B01001_005M  ...  \\\n",
       "Alias Margin of Error!!Total:!!Male:!!10 to 14 years  ...   \n",
       "0                                                 47  ...   \n",
       "1                                                 16  ...   \n",
       "\n",
       "Code                                B01001_045E  \\\n",
       "Alias Estimate!!Total:!!Female:!!67 to 69 years   \n",
       "0                                             0   \n",
       "1                                             9   \n",
       "\n",
       "Code                                       B01001_045M  \\\n",
       "Alias Margin of Error!!Total:!!Female:!!67 to 69 years   \n",
       "0                                                   12   \n",
       "1                                                    9   \n",
       "\n",
       "Code                                B01001_046E  \\\n",
       "Alias Estimate!!Total:!!Female:!!70 to 74 years   \n",
       "0                                            44   \n",
       "1                                             8   \n",
       "\n",
       "Code                                       B01001_046M  \\\n",
       "Alias Margin of Error!!Total:!!Female:!!70 to 74 years   \n",
       "0                                                   33   \n",
       "1                                                   10   \n",
       "\n",
       "Code                                B01001_047E  \\\n",
       "Alias Estimate!!Total:!!Female:!!75 to 79 years   \n",
       "0                                            54   \n",
       "1                                             5   \n",
       "\n",
       "Code                                       B01001_047M  \\\n",
       "Alias Margin of Error!!Total:!!Female:!!75 to 79 years   \n",
       "0                                                   40   \n",
       "1                                                    6   \n",
       "\n",
       "Code                                B01001_048E  \\\n",
       "Alias Estimate!!Total:!!Female:!!80 to 84 years   \n",
       "0                                             8   \n",
       "1                                             5   \n",
       "\n",
       "Code                                       B01001_048M  \\\n",
       "Alias Margin of Error!!Total:!!Female:!!80 to 84 years   \n",
       "0                                                   11   \n",
       "1                                                    6   \n",
       "\n",
       "Code                                   B01001_049E  \\\n",
       "Alias Estimate!!Total:!!Female:!!85 years and over   \n",
       "0                                               21   \n",
       "1                                               29   \n",
       "\n",
       "Code                                          B01001_049M  \n",
       "Alias Margin of Error!!Total:!!Female:!!85 years and over  \n",
       "0                                                     22   \n",
       "1                                                     37   \n",
       "\n",
       "[2 rows x 42 columns]"
      ]
     },
     "execution_count": 65,
     "metadata": {},
     "output_type": "execute_result"
    }
   ],
   "source": [
    "test.head(2)"
   ]
  },
  {
   "cell_type": "code",
   "execution_count": 66,
   "id": "2db93557-6c9b-45ec-b40d-3686fd8c6d3f",
   "metadata": {},
   "outputs": [
    {
     "name": "stdout",
     "output_type": "stream",
     "text": [
      "Exported to /Users/andyyu/Desktop/Nextcloud/SCOVI Project/Metrics/All Exposures/census/cleaned-data/person_under_5_65.csv\n"
     ]
    },
    {
     "data": {
      "text/plain": [
       "True"
      ]
     },
     "execution_count": 66,
     "metadata": {},
     "output_type": "execute_result"
    }
   ],
   "source": [
    "export_census_csv(test, cleaned_path_head, f\"{alias}.csv\", True)"
   ]
  },
  {
   "cell_type": "markdown",
   "id": "bff4f4ba-7447-46da-837b-fc6eefe3ce9b",
   "metadata": {},
   "source": [
    "### Persons under 5"
   ]
  },
  {
   "cell_type": "code",
   "execution_count": 67,
   "id": "c064a32b-334c-4dd5-8400-57bf8f51d81d",
   "metadata": {},
   "outputs": [],
   "source": [
    "# Skipping per JPL notes as a duplicate of persons under 5 & 65"
   ]
  },
  {
   "cell_type": "markdown",
   "id": "92ca4f39-f87c-40b5-85cc-0dd80af3bf53",
   "metadata": {},
   "source": [
    "### Population in group quarters"
   ]
  },
  {
   "cell_type": "code",
   "execution_count": 68,
   "id": "ab8b51fd-06ef-4222-80f7-bd52b482426f",
   "metadata": {},
   "outputs": [
    {
     "data": {
      "text/plain": [
       "(1084, 12)"
      ]
     },
     "execution_count": 68,
     "metadata": {},
     "output_type": "execute_result"
    }
   ],
   "source": [
    "key = \"population_in_group_quarters\"\n",
    "alias = \"population_group_quarters\"\n",
    "original_file_path = \"All Exposures/Table1/Data Describing Unsafe Conditions/Higher risk housing and infrastructure/Population in group quarters/DECENNIALPL2020.P5-Data.csv\"\n",
    "centralized_file_dir = os.path.join(central_path_head, alias)\n",
    "\n",
    "# Update file_blocks entry\n",
    "file_blocks[key]['original_file_path'] = original_file_path\n",
    "file_blocks[key]['centralized_file_dir'] = centralized_file_dir\n",
    "\n",
    "# # Copy the file to a centralized directory\n",
    "# copy_file(original_file_path, centralized_file_dir)\n",
    "\n",
    "# Build path to centralized directory path\n",
    "file_name = os.path.basename(original_file_path)\n",
    "file = os.path.join(centralized_file_dir, file_name)\n",
    "\n",
    "cols_to_drop = file_blocks[key]['cols_to_drop']\n",
    "column_mapping_dict = file_blocks[key]['code_to_alias_column_mappings']\n",
    "\n",
    "alias_df = map_census_aliases(file, column_mapping_dict)\n",
    "\n",
    "group_quarters_df = pd.read_csv(file)\n",
    "group_quarters_df.shape"
   ]
  },
  {
   "cell_type": "code",
   "execution_count": 69,
   "id": "624d61ab-88e0-45d2-915e-4b0de957c38a",
   "metadata": {},
   "outputs": [
    {
     "data": {
      "text/plain": [
       "(1083, 12)"
      ]
     },
     "execution_count": 69,
     "metadata": {},
     "output_type": "execute_result"
    }
   ],
   "source": [
    "alias_df.shape"
   ]
  },
  {
   "cell_type": "code",
   "execution_count": 70,
   "id": "f3f6289f-c66f-453a-8ad6-f8135ddc6068",
   "metadata": {},
   "outputs": [
    {
     "name": "stdout",
     "output_type": "stream",
     "text": [
      "\\Dropping 0 columns (0 pairs)\n"
     ]
    },
    {
     "data": {
      "text/plain": [
       "(1083, 12)"
      ]
     },
     "execution_count": 70,
     "metadata": {},
     "output_type": "execute_result"
    }
   ],
   "source": [
    "test = census_drop_cols(alias_df, cols_to_drop)\n",
    "test.shape"
   ]
  },
  {
   "cell_type": "code",
   "execution_count": 71,
   "id": "de1769ff-071e-42ca-89a5-79a41a18183b",
   "metadata": {},
   "outputs": [
    {
     "data": {
      "text/html": [
       "<div>\n",
       "<style scoped>\n",
       "    .dataframe tbody tr th:only-of-type {\n",
       "        vertical-align: middle;\n",
       "    }\n",
       "\n",
       "    .dataframe tbody tr th {\n",
       "        vertical-align: top;\n",
       "    }\n",
       "\n",
       "    .dataframe thead tr th {\n",
       "        text-align: left;\n",
       "    }\n",
       "</style>\n",
       "<table border=\"1\" class=\"dataframe\">\n",
       "  <thead>\n",
       "    <tr>\n",
       "      <th>Code</th>\n",
       "      <th>﻿GEO_ID</th>\n",
       "      <th>NAME</th>\n",
       "      <th>P5_001N</th>\n",
       "      <th>P5_002N</th>\n",
       "      <th>P5_003N</th>\n",
       "      <th>P5_004N</th>\n",
       "      <th>P5_005N</th>\n",
       "      <th>P5_006N</th>\n",
       "      <th>P5_007N</th>\n",
       "      <th>P5_008N</th>\n",
       "      <th>P5_009N</th>\n",
       "      <th>P5_010N</th>\n",
       "    </tr>\n",
       "    <tr>\n",
       "      <th>Alias</th>\n",
       "      <th>Geography</th>\n",
       "      <th>Geographic Area Name</th>\n",
       "      <th>!!Total:</th>\n",
       "      <th>!!Total:!!Institutionalized population:</th>\n",
       "      <th>!!Total:!!Institutionalized population:!!Correctional facilities for adults</th>\n",
       "      <th>!!Total:!!Institutionalized population:!!Juvenile facilities</th>\n",
       "      <th>!!Total:!!Institutionalized population:!!Nursing facilities/Skilled-nursing facilities</th>\n",
       "      <th>!!Total:!!Institutionalized population:!!Other institutional facilities</th>\n",
       "      <th>!!Total:!!Noninstitutionalized population:</th>\n",
       "      <th>!!Total:!!Noninstitutionalized population:!!College/University student housing</th>\n",
       "      <th>!!Total:!!Noninstitutionalized population:!!Military quarters</th>\n",
       "      <th>!!Total:!!Noninstitutionalized population:!!Other noninstitutional facilities</th>\n",
       "    </tr>\n",
       "  </thead>\n",
       "  <tbody>\n",
       "    <tr>\n",
       "      <th>0</th>\n",
       "      <td>1500000US150010201001</td>\n",
       "      <td>Block Group 1, Census Tract 201, Hawaii County...</td>\n",
       "      <td>0</td>\n",
       "      <td>0</td>\n",
       "      <td>0</td>\n",
       "      <td>0</td>\n",
       "      <td>0</td>\n",
       "      <td>0</td>\n",
       "      <td>0</td>\n",
       "      <td>0</td>\n",
       "      <td>0</td>\n",
       "      <td>0</td>\n",
       "    </tr>\n",
       "    <tr>\n",
       "      <th>1</th>\n",
       "      <td>1500000US150010201002</td>\n",
       "      <td>Block Group 2, Census Tract 201, Hawaii County...</td>\n",
       "      <td>0</td>\n",
       "      <td>0</td>\n",
       "      <td>0</td>\n",
       "      <td>0</td>\n",
       "      <td>0</td>\n",
       "      <td>0</td>\n",
       "      <td>0</td>\n",
       "      <td>0</td>\n",
       "      <td>0</td>\n",
       "      <td>0</td>\n",
       "    </tr>\n",
       "  </tbody>\n",
       "</table>\n",
       "</div>"
      ],
      "text/plain": [
       "Code                 ﻿GEO_ID  \\\n",
       "Alias              Geography   \n",
       "0      1500000US150010201001   \n",
       "1      1500000US150010201002   \n",
       "\n",
       "Code                                                NAME   P5_001N  \\\n",
       "Alias                               Geographic Area Name  !!Total:   \n",
       "0      Block Group 1, Census Tract 201, Hawaii County...         0   \n",
       "1      Block Group 2, Census Tract 201, Hawaii County...         0   \n",
       "\n",
       "Code                                   P5_002N  \\\n",
       "Alias  !!Total:!!Institutionalized population:   \n",
       "0                                            0   \n",
       "1                                            0   \n",
       "\n",
       "Code                                                                       P5_003N  \\\n",
       "Alias  !!Total:!!Institutionalized population:!!Correctional facilities for adults   \n",
       "0                                                      0                             \n",
       "1                                                      0                             \n",
       "\n",
       "Code                                                        P5_004N  \\\n",
       "Alias  !!Total:!!Institutionalized population:!!Juvenile facilities   \n",
       "0                                                      0              \n",
       "1                                                      0              \n",
       "\n",
       "Code                                                                                  P5_005N  \\\n",
       "Alias  !!Total:!!Institutionalized population:!!Nursing facilities/Skilled-nursing facilities   \n",
       "0                                                      0                                        \n",
       "1                                                      0                                        \n",
       "\n",
       "Code                                                                   P5_006N  \\\n",
       "Alias  !!Total:!!Institutionalized population:!!Other institutional facilities   \n",
       "0                                                      0                         \n",
       "1                                                      0                         \n",
       "\n",
       "Code                                      P5_007N  \\\n",
       "Alias  !!Total:!!Noninstitutionalized population:   \n",
       "0                                               0   \n",
       "1                                               0   \n",
       "\n",
       "Code                                                                          P5_008N  \\\n",
       "Alias  !!Total:!!Noninstitutionalized population:!!College/University student housing   \n",
       "0                                                      0                                \n",
       "1                                                      0                                \n",
       "\n",
       "Code                                                         P5_009N  \\\n",
       "Alias  !!Total:!!Noninstitutionalized population:!!Military quarters   \n",
       "0                                                      0               \n",
       "1                                                      0               \n",
       "\n",
       "Code                                                                         P5_010N  \n",
       "Alias  !!Total:!!Noninstitutionalized population:!!Other noninstitutional facilities  \n",
       "0                                                      0                              \n",
       "1                                                      0                              "
      ]
     },
     "execution_count": 71,
     "metadata": {},
     "output_type": "execute_result"
    }
   ],
   "source": [
    "test.head(2)"
   ]
  },
  {
   "cell_type": "code",
   "execution_count": 72,
   "id": "0533c41d-eb14-4d17-b8cc-29727d28ea71",
   "metadata": {},
   "outputs": [
    {
     "name": "stdout",
     "output_type": "stream",
     "text": [
      "Exported to /Users/andyyu/Desktop/Nextcloud/SCOVI Project/Metrics/All Exposures/census/cleaned-data/population_group_quarters.csv\n"
     ]
    },
    {
     "data": {
      "text/plain": [
       "True"
      ]
     },
     "execution_count": 72,
     "metadata": {},
     "output_type": "execute_result"
    }
   ],
   "source": [
    "export_census_csv(test, cleaned_path_head, f\"{alias}.csv\", True)"
   ]
  },
  {
   "cell_type": "markdown",
   "id": "8063dcfd-300c-4ab1-a90e-4b88fce3769f",
   "metadata": {},
   "source": [
    "# SKIP"
   ]
  },
  {
   "cell_type": "markdown",
   "id": "123489cd-e4d8-483c-a7f9-99f8c2eb0f15",
   "metadata": {},
   "source": [
    "### Race origin"
   ]
  },
  {
   "cell_type": "code",
   "execution_count": 73,
   "id": "84274b77-df9e-4ae5-934c-d180640c89ba",
   "metadata": {},
   "outputs": [],
   "source": [
    "# key = \"race_origin\"\n",
    "# alias = key\n",
    "# original_file_path = \"All Exposures/Table1/Data Describing Unsafe Conditions/Historical an other disparities_race or origin_and_gender/race_origin/ACSDT5Y2022.B02001-Data.csv\"\n",
    "# centralized_file_dir = os.path.join(central_path_head, alias)\n",
    "\n",
    "# # Update file_blocks entry\n",
    "# file_blocks[key]['original_file_path'] = original_file_path\n",
    "# file_blocks[key]['centralized_file_dir'] = centralized_file_dir\n",
    "\n",
    "# # # Copy the file to a centralized directory\n",
    "# # copy_file(original_file_path, centralized_file_dir)\n",
    "\n",
    "# # Build path to centralized directory path\n",
    "# file_name = os.path.basename(original_file_path)\n",
    "# file = os.path.join(centralized_file_dir, file_name)\n",
    "\n",
    "# cols_to_drop = file_blocks[key]['cols_to_drop']\n",
    "# column_mapping_dict = file_blocks[key]['code_to_alias_column_mappings']\n",
    "\n",
    "# alias_df = map_census_aliases(file, column_mapping_dict)\n",
    "\n",
    "# race_origin_df = pd.read_csv(file)\n",
    "# race_origin_df.shape"
   ]
  },
  {
   "cell_type": "code",
   "execution_count": 74,
   "id": "773ce109-70b5-44a8-a7ea-16255959e071",
   "metadata": {},
   "outputs": [],
   "source": [
    "# alias_df.shape"
   ]
  },
  {
   "cell_type": "code",
   "execution_count": 75,
   "id": "523aebcd-32af-4a42-b49b-ab6d7e10af50",
   "metadata": {},
   "outputs": [],
   "source": [
    "# test = census_drop_cols(alias_df, cols_to_drop)\n",
    "# test.shape"
   ]
  },
  {
   "cell_type": "code",
   "execution_count": 76,
   "id": "1d5f8f86-7b3e-4ff2-afd7-b11037f6cd17",
   "metadata": {},
   "outputs": [],
   "source": [
    "# test.head(2)"
   ]
  },
  {
   "cell_type": "code",
   "execution_count": 77,
   "id": "9cfa2ae1-0e02-433a-b265-e76df1902d1a",
   "metadata": {},
   "outputs": [],
   "source": [
    "# export_census_csv(test, cleaned_path_head, f\"{alias}.csv\", True)"
   ]
  },
  {
   "cell_type": "markdown",
   "id": "2684c3e5-d22b-4923-b853-7913ffa81ebf",
   "metadata": {},
   "source": [
    "### Tenure"
   ]
  },
  {
   "cell_type": "code",
   "execution_count": 78,
   "id": "0f94b30f-4e6c-43d1-8524-8c55e4c5f4a9",
   "metadata": {},
   "outputs": [
    {
     "data": {
      "text/plain": [
       "(1084, 8)"
      ]
     },
     "execution_count": 78,
     "metadata": {},
     "output_type": "execute_result"
    }
   ],
   "source": [
    "key = \"tenure\"\n",
    "alias = key\n",
    "original_file_path = \"All Exposures/Table1/Data Describing Unsafe Conditions/Higher risk housing and infrastructure/Tenure/ACSDT5Y2022.B25003-Data.csv\"\n",
    "centralized_file_dir = os.path.join(central_path_head, alias)\n",
    "\n",
    "# Update file_blocks entry\n",
    "file_blocks[key]['original_file_path'] = original_file_path\n",
    "file_blocks[key]['centralized_file_dir'] = centralized_file_dir\n",
    "\n",
    "# # Copy the file to a centralized directory\n",
    "# copy_file(original_file_path, centralized_file_dir)\n",
    "\n",
    "# Build path to centralized directory path\n",
    "file_name = os.path.basename(original_file_path)\n",
    "file = os.path.join(centralized_file_dir, file_name)\n",
    "\n",
    "cols_to_drop = file_blocks[key]['cols_to_drop']\n",
    "column_mapping_dict = file_blocks[key]['code_to_alias_column_mappings']\n",
    "\n",
    "alias_df = map_census_aliases(file, column_mapping_dict)\n",
    "\n",
    "tenure_df = pd.read_csv(file)\n",
    "tenure_df.shape"
   ]
  },
  {
   "cell_type": "code",
   "execution_count": 79,
   "id": "4aee8558-f2a8-4072-a0bc-837f791ca243",
   "metadata": {},
   "outputs": [
    {
     "data": {
      "text/plain": [
       "(1083, 8)"
      ]
     },
     "execution_count": 79,
     "metadata": {},
     "output_type": "execute_result"
    }
   ],
   "source": [
    "alias_df.shape"
   ]
  },
  {
   "cell_type": "code",
   "execution_count": 80,
   "id": "b59034fd-7de6-4f47-a9bd-1f2a4ef97d87",
   "metadata": {},
   "outputs": [
    {
     "name": "stdout",
     "output_type": "stream",
     "text": [
      "\\Dropping 4 columns (2 pairs)\n"
     ]
    },
    {
     "data": {
      "text/plain": [
       "(1083, 4)"
      ]
     },
     "execution_count": 80,
     "metadata": {},
     "output_type": "execute_result"
    }
   ],
   "source": [
    "test = census_drop_cols(alias_df, cols_to_drop)\n",
    "test.shape"
   ]
  },
  {
   "cell_type": "code",
   "execution_count": 81,
   "id": "e91d57a2-b052-477e-962b-9141bdc3def0",
   "metadata": {},
   "outputs": [
    {
     "data": {
      "text/html": [
       "<div>\n",
       "<style scoped>\n",
       "    .dataframe tbody tr th:only-of-type {\n",
       "        vertical-align: middle;\n",
       "    }\n",
       "\n",
       "    .dataframe tbody tr th {\n",
       "        vertical-align: top;\n",
       "    }\n",
       "\n",
       "    .dataframe thead tr th {\n",
       "        text-align: left;\n",
       "    }\n",
       "</style>\n",
       "<table border=\"1\" class=\"dataframe\">\n",
       "  <thead>\n",
       "    <tr>\n",
       "      <th>Code</th>\n",
       "      <th>﻿GEO_ID</th>\n",
       "      <th>NAME</th>\n",
       "      <th>B25003_003E</th>\n",
       "      <th>B25003_003M</th>\n",
       "    </tr>\n",
       "    <tr>\n",
       "      <th>Alias</th>\n",
       "      <th>Geography</th>\n",
       "      <th>Geographic Area Name</th>\n",
       "      <th>Estimate!!Total:!!Renter occupied</th>\n",
       "      <th>Margin of Error!!Total:!!Renter occupied</th>\n",
       "    </tr>\n",
       "  </thead>\n",
       "  <tbody>\n",
       "    <tr>\n",
       "      <th>0</th>\n",
       "      <td>1500000US150010201001</td>\n",
       "      <td>Block Group 1; Census Tract 201; Hawaii County...</td>\n",
       "      <td>249</td>\n",
       "      <td>68</td>\n",
       "    </tr>\n",
       "    <tr>\n",
       "      <th>1</th>\n",
       "      <td>1500000US150010201002</td>\n",
       "      <td>Block Group 2; Census Tract 201; Hawaii County...</td>\n",
       "      <td>41</td>\n",
       "      <td>20</td>\n",
       "    </tr>\n",
       "  </tbody>\n",
       "</table>\n",
       "</div>"
      ],
      "text/plain": [
       "Code                 ﻿GEO_ID  \\\n",
       "Alias              Geography   \n",
       "0      1500000US150010201001   \n",
       "1      1500000US150010201002   \n",
       "\n",
       "Code                                                NAME  \\\n",
       "Alias                               Geographic Area Name   \n",
       "0      Block Group 1; Census Tract 201; Hawaii County...   \n",
       "1      Block Group 2; Census Tract 201; Hawaii County...   \n",
       "\n",
       "Code                        B25003_003E  \\\n",
       "Alias Estimate!!Total:!!Renter occupied   \n",
       "0                                   249   \n",
       "1                                    41   \n",
       "\n",
       "Code                               B25003_003M  \n",
       "Alias Margin of Error!!Total:!!Renter occupied  \n",
       "0                                           68  \n",
       "1                                           20  "
      ]
     },
     "execution_count": 81,
     "metadata": {},
     "output_type": "execute_result"
    }
   ],
   "source": [
    "test.head(2)"
   ]
  },
  {
   "cell_type": "code",
   "execution_count": 82,
   "id": "6667f9e4-8a9b-4198-885d-e184d4c545cd",
   "metadata": {},
   "outputs": [
    {
     "name": "stdout",
     "output_type": "stream",
     "text": [
      "Exported to /Users/andyyu/Desktop/Nextcloud/SCOVI Project/Metrics/All Exposures/census/cleaned-data/tenure.csv\n"
     ]
    },
    {
     "data": {
      "text/plain": [
       "True"
      ]
     },
     "execution_count": 82,
     "metadata": {},
     "output_type": "execute_result"
    }
   ],
   "source": [
    "export_census_csv(test, cleaned_path_head, f\"{alias}.csv\", True)"
   ]
  },
  {
   "cell_type": "code",
   "execution_count": 83,
   "id": "3aa75d90-4049-408d-8eb6-fe2dc4bb64e4",
   "metadata": {
    "scrolled": true
   },
   "outputs": [
    {
     "data": {
      "text/plain": [
       "dict_keys(['age_of_structure', 'aggregate_number_of_vehicles_available_by_tenure', 'health_insurance_coverage_by_age', 'households_with_a_computer', 'internet_subscription_in_household', 'limited_english_speaking_households', 'living_arragements_including_living_alone_by_sex_and_relationship', 'income_share_of_fpl', 'persons_under_5_65_years_table', 'population_in_group_quarters', 'race_origin', 'tenure', '2022_census_hawaiian_homelands'])"
      ]
     },
     "execution_count": 83,
     "metadata": {},
     "output_type": "execute_result"
    }
   ],
   "source": [
    "file_blocks.keys()"
   ]
  },
  {
   "cell_type": "markdown",
   "id": "362e9a95-6e36-440b-9648-e57a13148ab8",
   "metadata": {},
   "source": [
    "# SKIP"
   ]
  },
  {
   "cell_type": "markdown",
   "id": "4f90fa97-4b84-4199-b6e9-e339ed94bdc0",
   "metadata": {},
   "source": [
    "### Types of Health Insurance"
   ]
  },
  {
   "cell_type": "code",
   "execution_count": 84,
   "id": "2f0a3fe5-fc63-466e-a43a-ad9cb7b2548d",
   "metadata": {},
   "outputs": [],
   "source": [
    "# key = \"types_of_health_insurance_by_age\"\n",
    "# alias = \"health_insurance_types\"\n",
    "# original_file_path = \"All Exposures/Table1/Data Describing Unsafe Conditions/Lack of social security and insurance/Health insurance coverage by age/ACSDT5Y2022.B27010-Data.csv\"\n",
    "# centralized_file_dir = os.path.join(central_path_head, alias)\n",
    "\n",
    "# # Update file_blocks entry\n",
    "# file_blocks[key]['original_file_path'] = original_file_path\n",
    "# file_blocks[key]['centralized_file_dir'] = centralized_file_dir\n",
    "\n",
    "# # # Copy the file to a centralized directory\n",
    "# # copy_file(original_file_path, centralized_file_dir)\n",
    "\n",
    "# # Build path to centralized directory path\n",
    "# file_name = os.path.basename(original_file_path)\n",
    "# file = os.path.join(centralized_file_dir, file_name)\n",
    "\n",
    "# cols_to_drop = file_blocks[key]['cols_to_drop']\n",
    "# column_mapping_dict = file_blocks[key]['code_to_alias_column_mappings']\n",
    "\n",
    "# alias_df = map_census_aliases(file, column_mapping_dict)\n",
    "\n",
    "# health_insurance_df = pd.read_csv(file)\n",
    "# health_insurance_df.shape"
   ]
  },
  {
   "cell_type": "code",
   "execution_count": 85,
   "id": "6da0483f-afd3-4cb9-bb8a-befa58813c9d",
   "metadata": {},
   "outputs": [],
   "source": [
    "# alias_df.shape"
   ]
  },
  {
   "cell_type": "code",
   "execution_count": 86,
   "id": "456758fa-d835-4489-a60a-848ff937cbad",
   "metadata": {},
   "outputs": [],
   "source": [
    "# test = census_drop_cols(alias_df, cols_to_drop)\n",
    "# test.shape"
   ]
  },
  {
   "cell_type": "code",
   "execution_count": 87,
   "id": "eece84da-8ea7-482d-a914-2e84b6cd5ff4",
   "metadata": {},
   "outputs": [],
   "source": [
    "# test.head(2)"
   ]
  },
  {
   "cell_type": "code",
   "execution_count": 88,
   "id": "795b21f0-570e-41e8-a143-1aa70d7f271c",
   "metadata": {},
   "outputs": [],
   "source": [
    "# export_census_csv(test, cleaned_path_head, f\"{alias}.csv\", True)"
   ]
  },
  {
   "cell_type": "markdown",
   "id": "0ac6c746-b5b1-41e6-a348-ecbf92b560a8",
   "metadata": {},
   "source": [
    "# SKIP"
   ]
  },
  {
   "cell_type": "markdown",
   "id": "80b94ac3-6d26-4bf1-9500-cd7ab62d4784",
   "metadata": {},
   "source": [
    "### 2022 Census Hawaiian Homelands"
   ]
  },
  {
   "cell_type": "code",
   "execution_count": 89,
   "id": "049e3644-8e4e-4254-b26b-68843403aaee",
   "metadata": {},
   "outputs": [],
   "source": [
    "# key = \"2022_census_hawaiian_homelands\"\n",
    "# alias = key\n",
    "# original_file_path = \"All Exposures/Table1/Data Describing Unsafe Conditions/Historical an other disparities_race or origin_and_gender/2022_census_hawaiian_homelands/ACSST5Y2022.S0601-Data.csv\"\n",
    "# centralized_file_dir = os.path.join(central_path_head, alias)\n",
    "\n",
    "# # Update file_blocks entry\n",
    "# file_blocks[key]['original_file_path'] = original_file_path\n",
    "# file_blocks[key]['centralized_file_dir'] = centralized_file_dir\n",
    "\n",
    "# # # Copy the file to a centralized directory\n",
    "# # copy_file(original_file_path, centralized_file_dir)\n",
    "\n",
    "# # Build path to centralized directory path\n",
    "# file_name = os.path.basename(original_file_path)\n",
    "# file = os.path.join(centralized_file_dir, file_name)\n",
    "\n",
    "# cols_to_drop = file_blocks[key]['cols_to_drop']\n",
    "# column_mapping_dict = file_blocks[key]['code_to_alias_column_mappings']\n",
    "\n",
    "# alias_df = map_census_aliases(file, column_mapping_dict)\n",
    "\n",
    "# hawaiian_homelands_2022_df = pd.read_csv(file)\n",
    "# hawaiian_homelands_2022_df.shape"
   ]
  },
  {
   "cell_type": "code",
   "execution_count": 90,
   "id": "9e2ad90e-babd-45b7-890a-e0ecaeb0571b",
   "metadata": {},
   "outputs": [],
   "source": [
    "# alias_df.shape"
   ]
  },
  {
   "cell_type": "code",
   "execution_count": 91,
   "id": "762ad95d-8a9c-4cc1-910b-a61606f05ddf",
   "metadata": {},
   "outputs": [],
   "source": [
    "# test = census_drop_cols(alias_df, cols_to_drop)\n",
    "# test.shape"
   ]
  },
  {
   "cell_type": "code",
   "execution_count": 92,
   "id": "0ef6d00e-a05c-429b-ba97-bdde38173f7c",
   "metadata": {},
   "outputs": [],
   "source": [
    "# test.head(2)"
   ]
  },
  {
   "cell_type": "code",
   "execution_count": 93,
   "id": "30a110ea-e33d-4fc8-acc3-30255b61f517",
   "metadata": {},
   "outputs": [],
   "source": [
    "# export_census_csv(test, cleaned_path_head, f\"{alias}.csv\", True)"
   ]
  },
  {
   "cell_type": "markdown",
   "id": "93feb6c6-5e60-406e-aea5-ed9f24eb16bb",
   "metadata": {},
   "source": [
    "## ============================================================"
   ]
  },
  {
   "cell_type": "code",
   "execution_count": 94,
   "id": "e01927f5-59d0-40d9-a673-28a672a8b918",
   "metadata": {
    "scrolled": true
   },
   "outputs": [
    {
     "name": "stdout",
     "output_type": "stream",
     "text": [
      "Processing /Users/andyyu/Desktop/Nextcloud/SCOVI Project/Metrics/All Exposures/census/cleaned-data/internet_subscription.csv...\n",
      "JSON at /Users/andyyu/Desktop/Nextcloud/SCOVI Project/Metrics/All Exposures/census/census-jsons/internet_subscription.json\n",
      "Processing /Users/andyyu/Desktop/Nextcloud/SCOVI Project/Metrics/All Exposures/census/cleaned-data/aggregate_income.csv...\n",
      "JSON at /Users/andyyu/Desktop/Nextcloud/SCOVI Project/Metrics/All Exposures/census/census-jsons/aggregate_income.json\n",
      "Processing /Users/andyyu/Desktop/Nextcloud/SCOVI Project/Metrics/All Exposures/census/cleaned-data/living_arrangements.csv...\n",
      "JSON at /Users/andyyu/Desktop/Nextcloud/SCOVI Project/Metrics/All Exposures/census/census-jsons/living_arrangements.json\n",
      "Processing /Users/andyyu/Desktop/Nextcloud/SCOVI Project/Metrics/All Exposures/census/cleaned-data/limited_english_speaking.csv...\n",
      "JSON at /Users/andyyu/Desktop/Nextcloud/SCOVI Project/Metrics/All Exposures/census/census-jsons/limited_english_speaking.json\n",
      "Processing /Users/andyyu/Desktop/Nextcloud/SCOVI Project/Metrics/All Exposures/census/cleaned-data/tenure.csv...\n",
      "JSON at /Users/andyyu/Desktop/Nextcloud/SCOVI Project/Metrics/All Exposures/census/census-jsons/tenure.json\n",
      "Processing /Users/andyyu/Desktop/Nextcloud/SCOVI Project/Metrics/All Exposures/census/cleaned-data/age_of_structure.csv...\n",
      "JSON at /Users/andyyu/Desktop/Nextcloud/SCOVI Project/Metrics/All Exposures/census/census-jsons/age_of_structure.json\n",
      "Processing /Users/andyyu/Desktop/Nextcloud/SCOVI Project/Metrics/All Exposures/census/cleaned-data/aggregate_vehicles.csv...\n",
      "Error processing /Users/andyyu/Desktop/Nextcloud/SCOVI Project/Metrics/All Exposures/census/cleaned-data/aggregate_vehicles.csv: cannot convert float NaN to integer\n",
      "Processing /Users/andyyu/Desktop/Nextcloud/SCOVI Project/Metrics/All Exposures/census/cleaned-data/households_w_computer.csv...\n",
      "JSON at /Users/andyyu/Desktop/Nextcloud/SCOVI Project/Metrics/All Exposures/census/census-jsons/households_w_computer.json\n",
      "Processing /Users/andyyu/Desktop/Nextcloud/SCOVI Project/Metrics/All Exposures/census/cleaned-data/person_under_5_65.csv...\n",
      "JSON at /Users/andyyu/Desktop/Nextcloud/SCOVI Project/Metrics/All Exposures/census/census-jsons/person_under_5_65.json\n",
      "Processing /Users/andyyu/Desktop/Nextcloud/SCOVI Project/Metrics/All Exposures/census/cleaned-data/population_group_quarters.csv...\n",
      "Error processing /Users/andyyu/Desktop/Nextcloud/SCOVI Project/Metrics/All Exposures/census/cleaned-data/population_group_quarters.csv: list index out of range\n",
      "Processing /Users/andyyu/Desktop/Nextcloud/SCOVI Project/Metrics/All Exposures/census/cleaned-data/health_insurance.csv...\n",
      "JSON at /Users/andyyu/Desktop/Nextcloud/SCOVI Project/Metrics/All Exposures/census/census-jsons/health_insurance.json\n"
     ]
    }
   ],
   "source": [
    "# import glob\n",
    "\n",
    "# csv_files = glob.glob(os.path.join(cleaned_path_head, \"*.csv\"))\n",
    "\n",
    "# # Process each CSV file\n",
    "# for csv_file in csv_files:\n",
    "#     print(f\"Processing {csv_file}...\")\n",
    "#     try:\n",
    "#         census_csv_to_json(csv_file, json_dir_path)\n",
    "#     except Exception as e:\n",
    "#         print(f\"Error processing {csv_file}: {e}\")"
   ]
  },
  {
   "cell_type": "code",
   "execution_count": 100,
   "id": "f07060eb-005f-4c36-944e-4d0b3316f1b3",
   "metadata": {},
   "outputs": [
    {
     "name": "stdout",
     "output_type": "stream",
     "text": [
      "JSON at /Users/andyyu/Desktop/Nextcloud/SCOVI Project/Metrics/All Exposures/census/census-jsons/all_census.json\n"
     ]
    }
   ],
   "source": []
  },
  {
   "cell_type": "markdown",
   "id": "68313021-ab4e-4751-8c11-6a032b8dce96",
   "metadata": {},
   "source": [
    "## Leaflet JSON "
   ]
  },
  {
   "cell_type": "code",
   "execution_count": 4,
   "id": "fc852163-04f5-4fe6-b4c6-1aa2bb39a549",
   "metadata": {},
   "outputs": [],
   "source": [
    "# This version processes multiple csvs into a single master json\n",
    "def census_csvs_to_master_json(csv_directory, json_path):\n",
    "    \"\"\"\n",
    "    Process all census CSV files of a given directory into a single master JSON file.\n",
    "    \"\"\"       \n",
    "    csv_directory = os.path.expanduser(csv_directory)\n",
    "    json_path = os.path.expanduser(json_path)\n",
    "    \n",
    "    os.makedirs(os.path.dirname(json_path), exist_ok=True)\n",
    "    \n",
    "    csv_files = glob.glob(os.path.join(csv_directory, \"*.csv\"))\n",
    "    \n",
    "    metrics = {}\n",
    "    \n",
    "    for csv_file in csv_files:\n",
    "        csv_filename = os.path.basename(csv_file)\n",
    "        census_metric_name = os.path.splitext(csv_filename)[0]\n",
    "        \n",
    "        try:\n",
    "            na_values = [\"\", \"-\", \"**\", \"null\"]\n",
    "            df = pd.read_csv(csv_file, na_values=na_values)\n",
    "            \n",
    "            for _, row in df.iterrows():\n",
    "                geo_id = row['Geography']\n",
    "                # Remove the \"1500000US\" prefix\n",
    "                if isinstance(geo_id, str) and 'US' in geo_id:\n",
    "                    geo_id = geo_id.split('US')[1]\n",
    "                \n",
    "                geo_name = row['Geographic Area Name']\n",
    "                \n",
    "                # Split geographic name\n",
    "                geo_name_parts = [geo_name_part.strip() for geo_name_part in geo_name.split(';')]\n",
    "                \n",
    "                if geo_id not in metrics:\n",
    "                    metrics[geo_id] = {\n",
    "                        \"block_group\": geo_name_parts[0],\n",
    "                        \"census_tract\": geo_name_parts[1],\n",
    "                        \"county\": geo_name_parts[2],\n",
    "                        \"state\": geo_name_parts[3],\n",
    "                        \"metrics\": {}\n",
    "                    }\n",
    "\n",
    "                # Group metrics by csv\n",
    "                if census_metric_name not in metrics[geo_id][\"metrics\"]:\n",
    "                    metrics[geo_id][\"metrics\"][census_metric_name] = {}\n",
    "                \n",
    "                # Add all estimate columns\n",
    "                for col in df.columns:\n",
    "                    if col == 'Geography' or col == 'Geographic Area Name' or col.startswith('Margin of Error'):\n",
    "                        continue\n",
    "                    \n",
    "                    field_name = col.replace('Estimate!!Total:!!', '')\n",
    "                    if pd.isna(row[col]):\n",
    "                        metrics[geo_id][\"metrics\"][census_metric_name][field_name] = None\n",
    "                        continue\n",
    "                                            \n",
    "                    value = int(row[col])\n",
    "                    \n",
    "                    metrics[geo_id][\"metrics\"][census_metric_name][field_name] = value\n",
    "                    \n",
    "        except Exception as e:\n",
    "            print(f\"Error processing {csv_file}: {e}\")\n",
    "            continue\n",
    "    \n",
    "    # Write to JSON file\n",
    "    with open(json_path, 'w') as f:\n",
    "        json.dump(metrics, f, indent=2)\n",
    "    \n",
    "    print(f\"JSON at {json_path}\")\n",
    "    return metrics\n",
    "\n",
    "# # This version processes each csv into individual json files\n",
    "# # This version also lacks handling of null values (e.g. aggregate_vehicles)\n",
    "# def census_csv_to_json(csv_path, json_dir_path=\"./\"):\n",
    "#     \"\"\"\n",
    "#     Process a cleaned census csv into a GeoID-to-values JSON lookup file.\n",
    "#     \"\"\"   \n",
    "#     csv_path = os.path.expanduser(csv_path)\n",
    "#     json_dir_path = os.path.expanduser(json_dir_path)\n",
    "    \n",
    "#     os.makedirs(json_dir_path, exist_ok=True)\n",
    "    \n",
    "#     csv_filename = os.path.basename(csv_path)\n",
    "#     json_filename = os.path.splitext(csv_filename)[0] + \".json\"\n",
    "#     json_path = os.path.join(json_dir_path, json_filename)\n",
    "    \n",
    "#     df = pd.read_csv(csv_path)\n",
    "    \n",
    "#     metrics = {}\n",
    "    \n",
    "#     for _, row in df.iterrows():\n",
    "#         geo_id = row['Geography']\n",
    "#         # Remove the \"1500000US\" prefix\n",
    "#         if isinstance(geo_id, str) and 'US' in geo_id:\n",
    "#             geo_id = geo_id.split('US')[1]\n",
    "        \n",
    "#         geo_name = row['Geographic Area Name']\n",
    "        \n",
    "#         # Split geographic name\n",
    "#         geo_name_parts = [geo_name_part.strip() for geo_name_part in geo_name.split(';')]\n",
    "        \n",
    "#         metrics[geo_id] = {\n",
    "#             \"block_group\": geo_name_parts[0],\n",
    "#             \"census_tract\": geo_name_parts[1],\n",
    "#             \"county\": geo_name_parts[2],\n",
    "#             \"state\": geo_name_parts[3],\n",
    "#             \"metric\": {}\n",
    "#         }\n",
    "        \n",
    "#         # Add all estimate columns\n",
    "#         for col in df.columns:\n",
    "#             if col == 'Geography' or col == 'Geographic Area Name' or col.startswith('Margin of Error'):\n",
    "#                 continue\n",
    "            \n",
    "#             # Clean up field name\n",
    "#             field_name = col.replace('Estimate!!Total:!!', '')\n",
    "#             value = int(row[col])\n",
    "            \n",
    "#             # Add to lookup\n",
    "#             metrics[geo_id][\"metric\"][field_name] = value\n",
    "    \n",
    "#     # Write to JSON file\n",
    "#     with open(json_path, 'w') as f:\n",
    "#         json.dump(metrics, f, indent=2)\n",
    "    \n",
    "#     print(f\"JSON at {json_path}\")\n",
    "#     return metrics\n",
    "\n",
    "def generate_dataset_params(csv_directory, json_path):\n",
    "    csv_directory = os.path.expanduser(csv_directory)\n",
    "    json_path = os.path.expanduser(json_path)\n",
    "\n",
    "    os.makedirs(os.path.dirname(json_path), exist_ok=True)\n",
    "    \n",
    "    csv_files = glob.glob(os.path.join(csv_directory, \"*.csv\"))\n",
    "    \n",
    "    dataset_params = {}\n",
    "    \n",
    "    for csv_file in csv_files:\n",
    "        csv_filename = os.path.basename(csv_file)\n",
    "        key = os.path.splitext(csv_filename)[0]\n",
    "        \n",
    "        dataset_params[key] = {\n",
    "            'metricName': '',\n",
    "            'metricLabel': '',\n",
    "            'columnThresholds': {},\n",
    "        }\n",
    "        \n",
    "        na_values = [\"\", \"-\", \"**\", \"null\"]\n",
    "        df = pd.read_csv(csv_file, na_values=na_values)\n",
    "        \n",
    "        for col in df.columns:\n",
    "            if col == 'Geography' or col == 'Geographic Area Name' or col.startswith('Margin of Error'):\n",
    "                continue\n",
    "\n",
    "            field_name = col.replace('Estimate!!Total:!!', '')\n",
    "            \n",
    "            # This section calculates quantiles using pandas qcut rounded to nearest factor of 5\n",
    "            numeric_col = pd.to_numeric(df[col])\n",
    "            \n",
    "            labels, edges = pd.qcut(numeric_col, q=10, labels=False, retbins=True, duplicates='drop')\n",
    "            \n",
    "            # Round edges to nearest factor of 5 directly in the loop\n",
    "            rounded_edges = [5 * round(edge/5) for edge in edges]\n",
    "\n",
    "            dataset_params[key]['columnThresholds'][field_name] = {\n",
    "                'thresholds': rounded_edges,\n",
    "                'colors': ['#FFEDA0', '#FED976', '#FEB24C', '#FD8D3C', '#FC4E2A', '#E31A1C', '#BD0026', '#800026', '#5A0018', '#3A000F']\n",
    "            }\n",
    "            \n",
    "    with open(json_path, 'w') as f:\n",
    "        json.dump(dataset_params, f, indent=2)\n",
    "        \n",
    "    print(dataset_params)\n",
    "\n",
    "    return dataset_params"
   ]
  },
  {
   "cell_type": "code",
   "execution_count": null,
   "id": "403ad52f-69b7-44f9-b4d4-f7c03817479f",
   "metadata": {},
   "outputs": [],
   "source": [
    "json_output_path = os.path.join(json_dir_path,\"all_census.json\") \n",
    "\n",
    "metrics = census_csvs_to_master_json(cleaned_path_head, json_output_path)"
   ]
  },
  {
   "cell_type": "code",
   "execution_count": 6,
   "id": "0501d625-cba2-4ad5-a18a-9989b3916a74",
   "metadata": {},
   "outputs": [
    {
     "name": "stdout",
     "output_type": "stream",
     "text": [
      "11\n"
     ]
    }
   ],
   "source": [
    "cleaned_path_head = os.path.expanduser(\"~/Desktop/Nextcloud/SCOVI Project/Metrics/All Exposures/census/cleaned-data\")\n",
    "\n",
    "json_dir_path = os.path.expanduser(\"~/Desktop\")\n",
    "json_output_path = os.path.join(json_dir_path,\"census_datasets_info.json\") \n",
    "\n",
    "dataset_params = generate_dataset_params(cleaned_path_head, json_output_path)"
   ]
  },
  {
   "cell_type": "code",
   "execution_count": null,
   "id": "eac3cec0-4ae2-46d8-b635-72df21d79067",
   "metadata": {},
   "outputs": [],
   "source": []
  }
 ],
 "metadata": {
  "kernelspec": {
   "display_name": "Python 3 (ipykernel)",
   "language": "python",
   "name": "python3"
  },
  "language_info": {
   "codemirror_mode": {
    "name": "ipython",
    "version": 3
   },
   "file_extension": ".py",
   "mimetype": "text/x-python",
   "name": "python",
   "nbconvert_exporter": "python",
   "pygments_lexer": "ipython3",
   "version": "3.13.3"
  }
 },
 "nbformat": 4,
 "nbformat_minor": 5
}
